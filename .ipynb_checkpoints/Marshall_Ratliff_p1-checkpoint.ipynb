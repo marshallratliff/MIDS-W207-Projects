{
 "cells": [
  {
   "cell_type": "markdown",
   "metadata": {},
   "source": [
    "# Project 1: Digit Classification with KNN and Naive Bayes"
   ]
  },
  {
   "cell_type": "markdown",
   "metadata": {},
   "source": [
    "In this project, you'll implement your own image recognition system for classifying digits. Read through the code and the instructions carefully and add your own code where indicated. Each problem can be addressed succinctly with the included packages -- please don't add any more. Grading will be based on writing clean, commented code, along with a few short answers.\n",
    "\n",
    "As always, you're welcome to work on the project in groups and discuss ideas on the course wall, but <b> please prepare your own write-up (with your own code). </b>\n",
    "\n",
    "If you're interested, check out these links related to digit recognition:\n",
    "\n",
    "Yann Lecun's MNIST benchmarks: http://yann.lecun.com/exdb/mnist/\n",
    "\n",
    "Stanford Streetview research and data: http://ufldl.stanford.edu/housenumbers/"
   ]
  },
  {
   "cell_type": "code",
   "execution_count": 1,
   "metadata": {},
   "outputs": [
    {
     "name": "stderr",
     "output_type": "stream",
     "text": [
      "C:\\Users\\adpra\\Anaconda3\\lib\\site-packages\\sklearn\\cross_validation.py:41: DeprecationWarning: This module was deprecated in version 0.18 in favor of the model_selection module into which all the refactored classes and functions are moved. Also note that the interface of the new CV iterators are different from that of this module. This module will be removed in 0.20.\n",
      "  \"This module will be removed in 0.20.\", DeprecationWarning)\n",
      "C:\\Users\\adpra\\Anaconda3\\lib\\site-packages\\sklearn\\grid_search.py:42: DeprecationWarning: This module was deprecated in version 0.18 in favor of the model_selection module into which all the refactored classes and functions are moved. This module will be removed in 0.20.\n",
      "  DeprecationWarning)\n"
     ]
    }
   ],
   "source": [
    "# This tells matplotlib not to try opening a new window for each plot.\n",
    "%matplotlib inline\n",
    "\n",
    "# Import a bunch of libraries.\n",
    "import time\n",
    "import numpy as np\n",
    "import matplotlib.pyplot as plt\n",
    "from matplotlib.ticker import MultipleLocator\n",
    "from sklearn.pipeline import Pipeline\n",
    "from sklearn.datasets import fetch_mldata\n",
    "from sklearn.neighbors import KNeighborsClassifier\n",
    "from sklearn.metrics import confusion_matrix\n",
    "from sklearn.linear_model import LinearRegression\n",
    "from sklearn.naive_bayes import BernoulliNB\n",
    "from sklearn.naive_bayes import MultinomialNB\n",
    "from sklearn.naive_bayes import GaussianNB\n",
    "from sklearn.grid_search import GridSearchCV\n",
    "from sklearn.metrics import classification_report\n",
    "\n",
    "# Set the randomizer seed so results are the same each time.\n",
    "np.random.seed(0)"
   ]
  },
  {
   "cell_type": "markdown",
   "metadata": {},
   "source": [
    "Load the data. Notice that we are splitting the data into training, development, and test. We also have a small subset of the training data called mini_train_data and mini_train_labels that you should use in all the experiments below, unless otherwise noted."
   ]
  },
  {
   "cell_type": "code",
   "execution_count": 2,
   "metadata": {},
   "outputs": [
    {
     "name": "stdout",
     "output_type": "stream",
     "text": [
      "data shape:  (70000, 784)\n",
      "label shape: (70000,)\n"
     ]
    }
   ],
   "source": [
    "# Load the digit data either from mldata.org, or once downloaded to data_home, from disk. The data is about 53MB so this cell\n",
    "# should take a while the first time your run it.\n",
    "mnist = fetch_mldata('MNIST original', data_home='~/datasets/mnist')\n",
    "X, Y = mnist.data, mnist.target\n",
    "\n",
    "# Rescale grayscale values to [0,1].\n",
    "X = X / 255.0\n",
    "\n",
    "# Shuffle the input: create a random permutation of the integers between 0 and the number of data points and apply this\n",
    "# permutation to X and Y.\n",
    "# NOTE: Each time you run this cell, you'll re-shuffle the data, resulting in a different ordering.\n",
    "shuffle = np.random.permutation(np.arange(X.shape[0]))\n",
    "X, Y = X[shuffle], Y[shuffle]\n",
    "\n",
    "print('data shape: ', X.shape)\n",
    "print('label shape:', Y.shape)\n",
    "()\n",
    "# Set some variables to hold test, dev, and training data.\n",
    "test_data, test_labels = X[61000:], Y[61000:]\n",
    "dev_data, dev_labels = X[60000:61000], Y[60000:61000]\n",
    "train_data, train_labels = X[:60000], Y[:60000]\n",
    "mini_train_data, mini_train_labels = X[:1000], Y[:1000]\n",
    "del X\n",
    "del Y"
   ]
  },
  {
   "cell_type": "code",
   "execution_count": 3,
   "metadata": {},
   "outputs": [
    {
     "name": "stdout",
     "output_type": "stream",
     "text": [
      "Variable                Type        Data/Info\n",
      "---------------------------------------------\n",
      "BernoulliNB             ABCMeta     <class 'sklearn.naive_bayes.BernoulliNB'>\n",
      "GaussianNB              ABCMeta     <class 'sklearn.naive_bayes.GaussianNB'>\n",
      "GridSearchCV            ABCMeta     <class 'sklearn.grid_search.GridSearchCV'>\n",
      "KNeighborsClassifier    ABCMeta     <class 'sklearn.neighbors<...>on.KNeighborsClassifier'>\n",
      "LinearRegression        ABCMeta     <class 'sklearn.linear_mo<...>l.base.LinearRegression'>\n",
      "MultinomialNB           ABCMeta     <class 'sklearn.naive_bayes.MultinomialNB'>\n",
      "MultipleLocator         type        <class 'matplotlib.ticker.MultipleLocator'>\n",
      "Pipeline                ABCMeta     <class 'sklearn.pipeline.Pipeline'>\n",
      "classification_report   function    <function classification_report at 0x0F3C4CD8>\n",
      "confusion_matrix        function    <function confusion_matrix at 0x0F3C49C0>\n",
      "dev_data                ndarray     1000x784: 784000 elems, type `float64`, 6272000 bytes (5.9814453125 Mb)\n",
      "dev_labels              ndarray     1000: 1000 elems, type `float64`, 8000 bytes\n",
      "fetch_mldata            function    <function fetch_mldata at 0x0F2ED078>\n",
      "mini_train_data         ndarray     1000x784: 784000 elems, type `float64`, 6272000 bytes (5.9814453125 Mb)\n",
      "mini_train_labels       ndarray     1000: 1000 elems, type `float64`, 8000 bytes\n",
      "mnist                   Bunch       {'DESCR': 'mldata.org dat<...> 0, 0, 0]], dtype=uint8)}\n",
      "np                      module      <module 'numpy' from 'C:\\<...>ges\\\\numpy\\\\__init__.py'>\n",
      "plt                     module      <module 'matplotlib.pyplo<...>\\\\matplotlib\\\\pyplot.py'>\n",
      "shuffle                 ndarray     70000: 70000 elems, type `int32`, 280000 bytes (273.4375 kb)\n",
      "test_data               ndarray     9000x784: 7056000 elems, type `float64`, 56448000 bytes (53.8330078125 Mb)\n",
      "test_labels             ndarray     9000: 9000 elems, type `float64`, 72000 bytes\n",
      "time                    module      <module 'time' (built-in)>\n",
      "train_data              ndarray     60000x784: 47040000 elems, type `float64`, 376320000 bytes (358.88671875 Mb)\n",
      "train_labels            ndarray     60000: 60000 elems, type `float64`, 480000 bytes (468.75 kb)\n"
     ]
    }
   ],
   "source": [
    "whos"
   ]
  },
  {
   "cell_type": "markdown",
   "metadata": {},
   "source": [
    "(1) Create a 10x10 grid to visualize 10 examples of each digit. Python hints:\n",
    "\n",
    "- plt.rc() for setting the colormap, for example to black and white\n",
    "- plt.subplot() for creating subplots\n",
    "- plt.imshow() for rendering a matrix\n",
    "- np.array.reshape() for reshaping a 1D feature vector into a 2D matrix (for rendering)"
   ]
  },
  {
   "cell_type": "code",
   "execution_count": 4,
   "metadata": {},
   "outputs": [
    {
     "data": {
      "image/png": "[encoded data removed]",
      "text/plain": [
       "<matplotlib.figure.Figure at 0x100933b0>"
      ]
     },
     "metadata": {},
     "output_type": "display_data"
    }
   ],
   "source": [
    "def P1(num_examples=10):\n",
    "\n",
    "### STUDENT START ###\n",
    "    plt.rcParams['figure.figsize']=[20,15]\n",
    "    fig = plt.figure()\n",
    "    plt.rc('gray')\n",
    "    for j in range(10):\n",
    "        data_by_num=train_data[train_labels==j]\n",
    "        for i in range(num_examples):\n",
    "            image_data=np.reshape(data_by_num[i],(-1,28))\n",
    "            plt.subplot(10,10,i+j*10+1)\n",
    "            plt.imshow(image_data,interpolation='nearest', cmap='Greys')\n",
    "\n",
    "    \n",
    "    \n",
    "\n",
    "### STUDENT END ###\n",
    "\n",
    "P1(10)\n",
    "del data_by_num\n",
    "del image_data"
   ]
  },
  {
   "cell_type": "markdown",
   "metadata": {},
   "source": [
    "(2) Evaluate a K-Nearest-Neighbors model with k = [1,3,5,7,9] using the mini training set. Report accuracy on the dev set. For k=1, show precision, recall, and F1 for each label. Which is the most difficult digit?\n",
    "\n",
    "- KNeighborsClassifier() for fitting and predicting\n",
    "- classification_report() for producing precision, recall, F1 results"
   ]
  },
  {
   "cell_type": "code",
   "execution_count": 28,
   "metadata": {},
   "outputs": [
    {
     "name": "stdout",
     "output_type": "stream",
     "text": [
      "Results of Nearest-Neighbor model for k = 1\n",
      "             precision    recall  f1-score   support\n",
      "\n",
      "          0       0.98      0.91      0.94       107\n",
      "          1       1.00      0.89      0.94       118\n",
      "          2       0.79      0.99      0.88        82\n",
      "          3       0.87      0.77      0.82        97\n",
      "          4       0.82      0.89      0.85        96\n",
      "          5       0.84      0.93      0.88        82\n",
      "          6       0.96      0.94      0.95       100\n",
      "          7       0.92      0.89      0.90       117\n",
      "          8       0.88      0.94      0.91        89\n",
      "          9       0.82      0.78      0.80       112\n",
      "\n",
      "avg / total       0.89      0.89      0.89      1000\n",
      "\n",
      "Results of Nearest-Neighbor model for k = 3\n",
      "             precision    recall  f1-score   support\n",
      "\n",
      "          0       1.00      0.90      0.95       110\n",
      "          1       1.00      0.81      0.89       130\n",
      "          2       0.81      0.95      0.88        87\n",
      "          3       0.84      0.69      0.75       105\n",
      "          4       0.85      0.88      0.86       100\n",
      "          5       0.79      0.94      0.86        77\n",
      "          6       0.96      0.97      0.96        97\n",
      "          7       0.88      0.92      0.90       108\n",
      "          8       0.79      0.96      0.87        79\n",
      "          9       0.85      0.84      0.85       107\n",
      "\n",
      "avg / total       0.89      0.88      0.88      1000\n",
      "\n",
      "Results of Nearest-Neighbor model for k = 5\n",
      "             precision    recall  f1-score   support\n",
      "\n",
      "          0       0.98      0.92      0.95       105\n",
      "          1       1.00      0.78      0.88       134\n",
      "          2       0.80      0.98      0.88        84\n",
      "          3       0.84      0.76      0.80        95\n",
      "          4       0.83      0.87      0.85        99\n",
      "          5       0.82      0.93      0.87        81\n",
      "          6       0.95      0.94      0.94        99\n",
      "          7       0.87      0.87      0.87       113\n",
      "          8       0.77      0.96      0.86        77\n",
      "          9       0.82      0.77      0.79       113\n",
      "\n",
      "avg / total       0.88      0.87      0.87      1000\n",
      "\n",
      "Results of Nearest-Neighbor model for k = 7\n",
      "             precision    recall  f1-score   support\n",
      "\n",
      "          0       0.98      0.91      0.94       107\n",
      "          1       1.00      0.77      0.87       137\n",
      "          2       0.76      0.99      0.86        79\n",
      "          3       0.87      0.79      0.83        95\n",
      "          4       0.81      0.90      0.85        93\n",
      "          5       0.81      0.95      0.88        78\n",
      "          6       0.93      0.91      0.92       100\n",
      "          7       0.88      0.83      0.85       121\n",
      "          8       0.78      0.95      0.86        79\n",
      "          9       0.81      0.77      0.79       111\n",
      "\n",
      "avg / total       0.88      0.86      0.87      1000\n",
      "\n",
      "Results of Nearest-Neighbor model for k = 9\n",
      "             precision    recall  f1-score   support\n",
      "\n",
      "          0       0.98      0.91      0.94       107\n",
      "          1       1.00      0.73      0.84       144\n",
      "          2       0.75      0.97      0.85        79\n",
      "          3       0.85      0.80      0.82        91\n",
      "          4       0.81      0.91      0.86        92\n",
      "          5       0.79      0.97      0.87        74\n",
      "          6       0.93      0.92      0.92        99\n",
      "          7       0.88      0.83      0.85       119\n",
      "          8       0.79      0.94      0.86        81\n",
      "          9       0.84      0.78      0.81       114\n",
      "\n",
      "avg / total       0.87      0.86      0.86      1000\n",
      "\n"
     ]
    }
   ],
   "source": [
    "def P2(k_values):\n",
    "\n",
    "### STUDENT START ###\n",
    "    results=[]\n",
    "    for k in k_values:\n",
    "        model=KNeighborsClassifier(n_neighbors=k)\n",
    "        model.fit(mini_train_data,mini_train_labels)\n",
    "        result=classification_report(model.predict(dev_data),dev_labels,labels=list(range(10)))\n",
    "        results.append(result)\n",
    "        print(\"Results of Nearest-Neighbor model for k =\",k)\n",
    "        print(result)\n",
    "    \n",
    "### STUDENT END ###\n",
    "\n",
    "k_values = [1, 3, 5, 7, 9]\n",
    "P2(k_values)\n",
    "\n"
   ]
  },
  {
   "cell_type": "markdown",
   "metadata": {},
   "source": [
    "ANSWER: The most difficult labels to classify are 3 and 9, with an average accuracy of 80% and 81% respectively.\n",
    "---"
   ]
  },
  {
   "cell_type": "markdown",
   "metadata": {},
   "source": [
    "(3) Using k=1, report dev set accuracy for the training set sizes below. Also, measure the amount of time needed for prediction with each training size.\n",
    "\n",
    "- time.time() gives a wall clock value you can use for timing operations"
   ]
  },
  {
   "cell_type": "code",
   "execution_count": 38,
   "metadata": {},
   "outputs": [
    {
     "name": "stdout",
     "output_type": "stream",
     "text": [
      "Results of 1-NN model trained on 100 training examples:\n",
      "             precision    recall  f1-score   support\n",
      "\n",
      "          0       0.95      0.86      0.90       109\n",
      "          1       1.00      0.60      0.75       175\n",
      "          2       0.60      0.90      0.72        68\n",
      "          3       0.70      0.56      0.62       108\n",
      "          4       0.47      0.92      0.62        53\n",
      "          5       0.51      0.77      0.61        60\n",
      "          6       0.86      0.87      0.86        97\n",
      "          7       0.81      0.70      0.75       131\n",
      "          8       0.47      0.92      0.62        49\n",
      "          9       0.79      0.56      0.66       150\n",
      "\n",
      "avg / total       0.78      0.72      0.73      1000\n",
      "\n",
      "Process for fitting 100 training examples took 0 seconds!\n",
      "Results of 1-NN model trained on 200 training examples:\n",
      "             precision    recall  f1-score   support\n",
      "\n",
      "          0       0.96      0.91      0.94       104\n",
      "          1       0.99      0.69      0.82       150\n",
      "          2       0.62      0.95      0.75        66\n",
      "          3       0.67      0.71      0.69        82\n",
      "          4       0.67      0.82      0.74        85\n",
      "          5       0.73      0.77      0.75        86\n",
      "          6       0.89      0.90      0.89        97\n",
      "          7       0.87      0.74      0.80       133\n",
      "          8       0.73      0.88      0.80        80\n",
      "          9       0.71      0.64      0.67       117\n",
      "\n",
      "avg / total       0.81      0.79      0.79      1000\n",
      "\n",
      "Process for fitting 200 training examples took 0 seconds!\n",
      "Results of 1-NN model trained on 400 training examples:\n",
      "             precision    recall  f1-score   support\n",
      "\n",
      "          0       1.00      0.89      0.94       111\n",
      "          1       1.00      0.80      0.89       132\n",
      "          2       0.73      0.95      0.82        78\n",
      "          3       0.78      0.68      0.72        99\n",
      "          4       0.75      0.93      0.83        84\n",
      "          5       0.71      0.87      0.78        75\n",
      "          6       0.93      0.98      0.95        93\n",
      "          7       0.90      0.78      0.84       130\n",
      "          8       0.77      0.93      0.84        80\n",
      "          9       0.81      0.73      0.77       118\n",
      "\n",
      "avg / total       0.85      0.84      0.84      1000\n",
      "\n",
      "Process for fitting 400 training examples took 0 seconds!\n",
      "Results of 1-NN model trained on 800 training examples:\n",
      "             precision    recall  f1-score   support\n",
      "\n",
      "          0       0.99      0.91      0.95       108\n",
      "          1       1.00      0.88      0.94       119\n",
      "          2       0.79      0.99      0.88        82\n",
      "          3       0.87      0.76      0.81        99\n",
      "          4       0.84      0.90      0.87        97\n",
      "          5       0.80      0.92      0.86        79\n",
      "          6       0.95      0.97      0.96        96\n",
      "          7       0.91      0.87      0.89       118\n",
      "          8       0.85      0.93      0.89        88\n",
      "          9       0.82      0.76      0.79       114\n",
      "\n",
      "avg / total       0.89      0.88      0.88      1000\n",
      "\n",
      "Process for fitting 800 training examples took 1 seconds!\n",
      "Results of 1-NN model trained on 1600 training examples:\n",
      "             precision    recall  f1-score   support\n",
      "\n",
      "          0       0.98      0.92      0.95       106\n",
      "          1       1.00      0.90      0.95       117\n",
      "          2       0.86      1.00      0.93        88\n",
      "          3       0.90      0.80      0.85        96\n",
      "          4       0.85      0.93      0.88        95\n",
      "          5       0.86      0.92      0.89        85\n",
      "          6       0.95      0.94      0.94        99\n",
      "          7       0.94      0.90      0.92       118\n",
      "          8       0.85      0.93      0.89        88\n",
      "          9       0.83      0.81      0.82       108\n",
      "\n",
      "avg / total       0.91      0.90      0.90      1000\n",
      "\n",
      "Process for fitting 1600 training examples took 2 seconds!\n",
      "Results of 1-NN model trained on 3200 training examples:\n",
      "             precision    recall  f1-score   support\n",
      "\n",
      "          0       0.98      0.93      0.96       104\n",
      "          1       1.00      0.94      0.97       112\n",
      "          2       0.85      0.97      0.91        90\n",
      "          3       0.95      0.87      0.91        94\n",
      "          4       0.90      0.97      0.94        97\n",
      "          5       0.89      0.94      0.92        86\n",
      "          6       0.96      0.94      0.95       100\n",
      "          7       0.91      0.89      0.90       116\n",
      "          8       0.90      0.96      0.92        90\n",
      "          9       0.92      0.87      0.89       111\n",
      "\n",
      "avg / total       0.93      0.93      0.93      1000\n",
      "\n",
      "Process for fitting 3200 training examples took 5 seconds!\n",
      "Results of 1-NN model trained on 6400 training examples:\n",
      "             precision    recall  f1-score   support\n",
      "\n",
      "          0       0.98      0.97      0.97       100\n",
      "          1       1.00      0.96      0.98       109\n",
      "          2       0.90      0.98      0.94        94\n",
      "          3       0.92      0.89      0.90        89\n",
      "          4       0.93      0.96      0.95       101\n",
      "          5       0.91      0.92      0.92        90\n",
      "          6       0.95      0.98      0.96        95\n",
      "          7       0.96      0.89      0.92       121\n",
      "          8       0.90      0.95      0.92        91\n",
      "          9       0.92      0.88      0.90       110\n",
      "\n",
      "avg / total       0.94      0.94      0.94      1000\n",
      "\n",
      "Process for fitting 6400 training examples took 10 seconds!\n",
      "Results of 1-NN model trained on 12800 training examples:\n",
      "             precision    recall  f1-score   support\n",
      "\n",
      "          0       0.99      0.96      0.98       102\n",
      "          1       1.00      0.97      0.99       108\n",
      "          2       0.92      1.00      0.96        94\n",
      "          3       0.95      0.93      0.94        88\n",
      "          4       0.96      0.97      0.97       103\n",
      "          5       0.92      0.95      0.94        88\n",
      "          6       0.96      0.97      0.96        97\n",
      "          7       0.96      0.94      0.95       115\n",
      "          8       0.97      0.96      0.96        97\n",
      "          9       0.95      0.94      0.94       108\n",
      "\n",
      "avg / total       0.96      0.96      0.96      1000\n",
      "\n",
      "Process for fitting 12800 training examples took 22 seconds!\n",
      "Results of 1-NN model trained on 25000 training examples:\n",
      "             precision    recall  f1-score   support\n",
      "\n",
      "          0       1.00      0.95      0.98       104\n",
      "          1       1.00      0.97      0.99       108\n",
      "          2       0.93      0.99      0.96        96\n",
      "          3       0.95      0.94      0.95        87\n",
      "          4       0.98      0.99      0.99       103\n",
      "          5       0.96      0.98      0.97        89\n",
      "          6       0.97      0.99      0.98        96\n",
      "          7       0.96      0.96      0.96       113\n",
      "          8       0.95      0.97      0.96        94\n",
      "          9       0.99      0.95      0.97       110\n",
      "\n",
      "avg / total       0.97      0.97      0.97      1000\n",
      "\n",
      "Process for fitting 25000 training examples took 50 seconds!\n"
     ]
    }
   ],
   "source": [
    "def P3(train_sizes, accuracies):\n",
    "\n",
    "### STUDENT START ###\n",
    "    model=KNeighborsClassifier(n_neighbors=1)\n",
    "    for train_size in train_sizes:\n",
    "        start=time.time()\n",
    "        model.fit(train_data[:train_size],train_labels[:train_size])\n",
    "        result=classification_report(model.predict(dev_data),dev_labels,labels=list(range(10)))\n",
    "        stop=time.time()\n",
    "        accuracy=round(np.sum(model.predict(dev_data)==dev_labels)/1000,2)\n",
    "        accuracies.append(accuracy)\n",
    "        print(\"Results of 1-NN model trained on %d training examples:\" % train_size)\n",
    "        print(result)\n",
    "        print(\"Process for fitting %d training examples took %d seconds!\" % (train_size,(stop-start)))\n",
    "    return accuracies\n",
    "\n",
    "### STUDENT END ###\n",
    "\n",
    "train_sizes = [100, 200, 400, 800, 1600, 3200, 6400, 12800, 25000]\n",
    "accuracies = []\n",
    "accuracies = P3(train_sizes, accuracies)\n"
   ]
  },
  {
   "cell_type": "markdown",
   "metadata": {},
   "source": [
    "(4) Fit a regression model that predicts accuracy from training size. What does it predict for n=60000? What's wrong with using regression here? Can you apply a transformation that makes the predictions more reasonable?\n",
    "\n",
    "- Remember that the sklearn fit() functions take an input matrix X and output vector Y. So each input example in X is a vector, even if it contains only a single value."
   ]
  },
  {
   "cell_type": "code",
   "execution_count": 65,
   "metadata": {},
   "outputs": [
    {
     "name": "stdout",
     "output_type": "stream",
     "text": [
      "Predicted accuracy on 60000 training examples using linear regression is 124 percent.\n",
      "Predicted accuracy on 60000 training examples using logit-level regression is 99 percent.\n"
     ]
    }
   ],
   "source": [
    "import math\n",
    "\n",
    "def P4():\n",
    "\n",
    "### STUDENT START ###\n",
    "    X=np.array(train_sizes).reshape(-1,1)\n",
    "    Y=accuracies\n",
    "    model=LinearRegression()\n",
    "    model.fit(X,Y)\n",
    "    print('Predicted accuracy on 60000 training examples using linear regression is %d percent.' %(100*model.predict(60000)[0]))\n",
    "    #Above returns value > 1 which is not possible as this is a probability (num_correct/total).\n",
    "    #Solution is to apply a logit transform on the outcome variable, referred to as logit-level regression.\n",
    "    Y_2=list(map(lambda x: math.log(x)-math.log(1-x),accuracies))\n",
    "    model.fit(X,Y_2)\n",
    "    print('Predicted accuracy on 60000 training examples using logit-level regression is %d percent.'%(100/(1+math.exp(-model.predict(60000))))) \n",
    "\n",
    "### STUDENT END ###\n",
    "\n",
    "P4()\n",
    "del accuracies\n",
    "del X\n",
    "del Y\n",
    "del Y_2"
   ]
  },
  {
   "cell_type": "markdown",
   "metadata": {},
   "source": [
    "ANSWER: A simple Linear Regression to extrapolate the projected results for the 1-nn classifier used ignores the domain restrictions of the outcome variable, mapping to the range (-infinity,infinity) as opposed to the true range of [0,1], thus even for the reasonably small training size of 60000, the model predicts an accuracy of 124%, which is of course impossible. In order to correct this invalid assumption, we can apply the logit transform, defined as:\n",
    "--\n",
    "$$\\text{logit}(p)=\\log\\big(\\frac{p}{1-p}\\big)=\\log(p)-\\log(1-p)$$\n",
    "--\n",
    "for some probability p, which in our case corresponds to classification accuracy, to implement a \"logit-level\" linear regression. Using this transformation we get a projected accuracy of 99% for 60000 training examples.\n",
    "--"
   ]
  },
  {
   "cell_type": "markdown",
   "metadata": {},
   "source": [
    "Fit a 1-NN and output a confusion matrix for the dev data. Use the confusion matrix to identify the most confused pair of digits, and display a few example mistakes.\n",
    "\n",
    "- confusion_matrix() produces a confusion matrix"
   ]
  },
  {
   "cell_type": "code",
   "execution_count": 5,
   "metadata": {},
   "outputs": [
    {
     "name": "stdout",
     "output_type": "stream",
     "text": [
      "Results of 1-NN model on whole training set:\n",
      "             precision    recall  f1-score   support\n",
      "\n",
      "          0       1.00      0.96      0.98       103\n",
      "          1       1.00      1.00      1.00       105\n",
      "          2       0.96      0.98      0.97       100\n",
      "          3       0.97      0.95      0.96        87\n",
      "          4       0.98      0.99      0.99       103\n",
      "          5       0.97      0.97      0.97        91\n",
      "          6       0.98      0.99      0.98        97\n",
      "          7       0.98      0.99      0.99       112\n",
      "          8       0.93      0.98      0.95        91\n",
      "          9       1.00      0.95      0.98       111\n",
      "\n",
      "avg / total       0.98      0.98      0.98      1000\n",
      "\n",
      "Confusion matrix for 1-NN model on whole training set:\n",
      "[[ 99   0   0   0   0   0   0   0   0   0]\n",
      " [  0 105   0   0   0   0   0   0   0   0]\n",
      " [  1   0  98   2   0   0   0   1   0   0]\n",
      " [  0   0   0  83   0   1   0   0   1   1]\n",
      " [  0   0   0   0 102   0   0   0   0   2]\n",
      " [  1   0   0   0   0  88   0   0   1   1]\n",
      " [  1   0   0   0   1   0  96   0   0   0]\n",
      " [  0   0   1   0   0   0   0 111   0   1]\n",
      " [  1   0   1   2   0   2   1   0  89   0]\n",
      " [  0   0   0   0   0   0   0   0   0 106]]\n"
     ]
    }
   ],
   "source": [
    "def P5():\n",
    "\n",
    "### STUDENT START ###\n",
    "    model=KNeighborsClassifier(n_neighbors=1)\n",
    "    model.fit(train_data,train_labels)\n",
    "    print(\"Results of 1-NN model on whole training set:\")\n",
    "    print(classification_report(model.predict(dev_data),dev_labels,labels=list(range(10))))\n",
    "    print(\"Confusion matrix for 1-NN model on whole training set:\")\n",
    "    print(confusion_matrix(dev_labels,model.predict(dev_data),labels=list(range(10))))\n",
    "    \n",
    "### STUDENT END ###\n",
    "\n",
    "P5()"
   ]
  },
  {
   "cell_type": "code",
   "execution_count": 86,
   "metadata": {},
   "outputs": [
    {
     "name": "stdout",
     "output_type": "stream",
     "text": [
      "7\n"
     ]
    },
    {
     "data": {
      "image/png": "[encoded data removed]",
      "text/plain": [
       "<matplotlib.figure.Figure at 0x1415f130>"
      ]
     },
     "metadata": {},
     "output_type": "display_data"
    }
   ],
   "source": [
    "mistakes=dev_data[np.logical_or(np.logical_and(model.predict(dev_data)==9, dev_labels==4),np.logical_and(model.predict(dev_data)==4, dev_labels==9))]\n",
    "print(len(mistakes))\n",
    "plt.rcParams['figure.figsize']=[20,15]\n",
    "plt.figure()\n",
    "for i in range(len(mistakes)):\n",
    "    mistake=np.reshape(mistakes[i],(-1,28))\n",
    "    plt.subplot(1,len(mistakes),i+1)\n",
    "    plt.imshow(mistake,interpolation='nearest', cmap='Greys')\n",
    "\n",
    "del mistake\n",
    "del mistakes"
   ]
  },
  {
   "cell_type": "markdown",
   "metadata": {},
   "source": [
    "ANSWER: Most common pair is 4 & 9, particularly labeling 4's as 9's. Above are some examples.\n",
    "--"
   ]
  },
  {
   "cell_type": "markdown",
   "metadata": {},
   "source": [
    "(6) A common image processing technique is to smooth an image by blurring. The idea is that the value of a particular pixel is estimated as the weighted combination of the original value and the values around it. Typically, the blurring is Gaussian -- that is, the weight of a pixel's influence is determined by a Gaussian function over the distance to the relevant pixel.\n",
    "\n",
    "Implement a simplified Gaussian blur by just using the 8 neighboring pixels: the smoothed value of a pixel is a weighted combination of the original value and the 8 neighboring values. Try applying your blur filter in 3 ways:\n",
    "- preprocess the training data but not the dev data\n",
    "- preprocess the dev data but not the training data\n",
    "- preprocess both training and dev data\n",
    "\n",
    "Note that there are Guassian blur filters available, for example in scipy.ndimage.filters. You're welcome to experiment with those, but you are likely to get the best results with the simplified version I described above."
   ]
  },
  {
   "cell_type": "code",
   "execution_count": 4,
   "metadata": {},
   "outputs": [
    {
     "name": "stdout",
     "output_type": "stream",
     "text": [
      "Results of Nearest-Neighbor model trained on blurred_train_data to predict dev_data.\n",
      "             precision    recall  f1-score   support\n",
      "\n",
      "          0       0.98      0.99      0.98        98\n",
      "          1       1.00      1.00      1.00       105\n",
      "          2       0.94      0.98      0.96        98\n",
      "          3       0.97      0.94      0.95        88\n",
      "          4       0.99      0.99      0.99       104\n",
      "          5       0.98      0.95      0.96        94\n",
      "          6       0.99      0.98      0.98        99\n",
      "          7       0.99      0.97      0.98       116\n",
      "          8       0.94      0.98      0.96        92\n",
      "          9       0.97      0.97      0.97       106\n",
      "\n",
      "avg / total       0.98      0.97      0.98      1000\n",
      "\n",
      "Results of Nearest-Neighbor model trained on train_data to predict blurred_dev_data.\n",
      "             precision    recall  f1-score   support\n",
      "\n",
      "          0       1.00      0.96      0.98       103\n",
      "          1       1.00      0.96      0.98       109\n",
      "          2       0.96      1.00      0.98        98\n",
      "          3       0.94      0.95      0.95        85\n",
      "          4       0.99      0.97      0.98       106\n",
      "          5       0.97      0.98      0.97        90\n",
      "          6       0.97      0.98      0.97        97\n",
      "          7       0.96      0.98      0.97       111\n",
      "          8       0.95      0.98      0.96        93\n",
      "          9       0.98      0.96      0.97       108\n",
      "\n",
      "avg / total       0.97      0.97      0.97      1000\n",
      "\n",
      "Results of Nearest-Neighbor model trained on blurred_train_data to predict blurred_dev_data.\n",
      "             precision    recall  f1-score   support\n",
      "\n",
      "          0       1.00      0.98      0.99       101\n",
      "          1       1.00      1.00      1.00       105\n",
      "          2       0.96      0.98      0.97       100\n",
      "          3       0.94      0.95      0.95        85\n",
      "          4       0.99      0.98      0.99       105\n",
      "          5       0.98      0.97      0.97        92\n",
      "          6       0.99      1.00      0.99        97\n",
      "          7       0.99      0.99      0.99       113\n",
      "          8       0.97      0.99      0.98        94\n",
      "          9       0.98      0.96      0.97       108\n",
      "\n",
      "avg / total       0.98      0.98      0.98      1000\n",
      "\n"
     ]
    }
   ],
   "source": [
    "import math\n",
    "\n",
    "def P6():\n",
    "    \n",
    "### STUDENT START ###\n",
    "    sigma=.75\n",
    "    blurred_train_data=np.empty(shape=np.shape(train_data))\n",
    "    for j in range(len(train_data)):\n",
    "        image=train_data[j]\n",
    "        blurred_image=np.empty(784)\n",
    "        for i in range(28*28):\n",
    "            if i<28:\n",
    "                if i==0:\n",
    "                    total=gaussian(0,sigma)+2*gaussian(1,sigma)+gaussian(math.sqrt(2),sigma)\n",
    "                    blurred_image[i]=(gaussian(0,sigma)*image[i]+gaussian(1,sigma)*(image[i+1])+gaussian(1,sigma)*(image[i+28])+gaussian(math.sqrt(2),sigma)*(image[i+29]))/total\n",
    "                elif i==27:\n",
    "                    total=gaussian(0,sigma)+2*gaussian(1,sigma)+gaussian(math.sqrt(2),sigma)\n",
    "                    blurred_image[i]=(gaussian(0,sigma)*image[i]+gaussian(1,sigma)*(image[i+1])+gaussian(1,sigma)*(image[i+28])+gaussian(math.sqrt(2),sigma)*(image[i+27]))/total\n",
    "                else:\n",
    "                    total=gaussian(0,sigma)+3*gaussian(1,sigma)+2*gaussian(math.sqrt(2),sigma)\n",
    "                    blurred_image[i]=(gaussian(0,sigma)*image[i]+gaussian(1,sigma)*(image[i+1])+gaussian(1,sigma)*(image[i-1])+gaussian(1,sigma)*(image[i+28])+gaussian(math.sqrt(2),sigma)*(image[i+27])+gaussian(math.sqrt(2),sigma)*(image[i+29]))/total\n",
    "            elif i>=28*27:\n",
    "                if i%28==0:\n",
    "                    total=gaussian(0,sigma)+2*gaussian(1,sigma)+gaussian(math.sqrt(2),sigma)\n",
    "                    blurred_image[i]=(gaussian(0,sigma)*image[i]+gaussian(1,sigma)*(image[i-1])+gaussian(1,sigma)*(image[i-28])+gaussian(math.sqrt(2),sigma)*(image[i-27]))/total\n",
    "                elif i%28==27:\n",
    "                    total=gaussian(0,sigma)+2*gaussian(1,sigma)+gaussian(math.sqrt(2),sigma)\n",
    "                    blurred_image[i]=(gaussian(0,sigma)*image[i]+gaussian(1,sigma)*(image[i-1])+gaussian(1,sigma)*(image[i-28])+gaussian(math.sqrt(2),sigma)*(image[i-29]))/total\n",
    "                else:\n",
    "                    total=gaussian(0,sigma)+3*gaussian(1,sigma)+2*gaussian(math.sqrt(2),sigma)\n",
    "                    blurred_image[i]=(gaussian(0,sigma)*image[i]+gaussian(1,sigma)*(image[i+1])+gaussian(1,sigma)*(image[i-1])+gaussian(1,sigma)*(image[i-28])+gaussian(math.sqrt(2),sigma)*(image[i-27])+gaussian(math.sqrt(2),sigma)*(image[i-29]))/total\n",
    "            else:\n",
    "                if i%28==0:\n",
    "                    total=gaussian(0,sigma)+3*gaussian(1,sigma)+2*gaussian(math.sqrt(2),sigma)\n",
    "                    blurred_image[i]=(gaussian(0,sigma)*image[i]+gaussian(1,sigma)*(image[i+1])+gaussian(1,sigma)*(image[i-28])+gaussian(1,sigma)*(image[i+28])+gaussian(math.sqrt(2),sigma)*(image[i-27])+gaussian(math.sqrt(2),sigma)*(image[i+29]))/total\n",
    "                elif i%28==27:\n",
    "                    total=gaussian(0,sigma)+3*gaussian(1,sigma)+2*gaussian(math.sqrt(2),sigma)\n",
    "                    blurred_image[i]=(gaussian(0,sigma)*image[i]+gaussian(1,sigma)*(image[i-1])+gaussian(1,sigma)*(image[i-28])+gaussian(1,sigma)*(image[i+28])+gaussian(math.sqrt(2),sigma)*(image[i+27])+gaussian(math.sqrt(2),sigma)*(image[i-29]))/total\n",
    "                else:\n",
    "                    total=gaussian(0,sigma)+4*gaussian(1,sigma)+4*gaussian(math.sqrt(2),sigma)\n",
    "                    blurred_image[i]=(gaussian(0,sigma)*image[i]+gaussian(1,sigma)*(image[i+1])+gaussian(1,sigma)*(image[i-1])+gaussian(1,sigma)*(image[i-28])+gaussian(1,sigma)*(image[i+28])+gaussian(1,sigma)*(image[i+28])+gaussian(math.sqrt(2),sigma)*(image[i-27])+gaussian(math.sqrt(2),sigma)*(image[i+29])+gaussian(1,sigma)*(image[i+28])+gaussian(math.sqrt(2),sigma)*(image[i+27])+gaussian(math.sqrt(2),sigma)*(image[i-29]))/total\n",
    "        \n",
    "        blurred_train_data[j]=blurred_image\n",
    "        \n",
    "    blurred_dev_data=np.empty(shape=np.shape(dev_data))\n",
    "    for j in range(len(dev_data)):\n",
    "        image=dev_data[j]\n",
    "        blurred_image=np.empty(784)\n",
    "        for i in range(28*28):\n",
    "            if i<28:\n",
    "                if i==0:\n",
    "                    total=gaussian(0,sigma)+2*gaussian(1,sigma)+gaussian(math.sqrt(2),sigma)\n",
    "                    blurred_image[i]=(gaussian(0,sigma)*image[i]+gaussian(1,sigma)*(image[i+1])+gaussian(1,sigma)*(image[i+28])+gaussian(math.sqrt(2),sigma)*(image[i+29]))/total\n",
    "                elif i==27:\n",
    "                    total=gaussian(0,sigma)+2*gaussian(1,sigma)+gaussian(math.sqrt(2),sigma)\n",
    "                    blurred_image[i]=(gaussian(0,sigma)*image[i]+gaussian(1,sigma)*(image[i+1])+gaussian(1,sigma)*(image[i+28])+gaussian(math.sqrt(2),sigma)*(image[i+27]))/total\n",
    "                else:\n",
    "                    total=gaussian(0,sigma)+3*gaussian(1,sigma)+2*gaussian(math.sqrt(2),sigma)\n",
    "                    blurred_image[i]=(gaussian(0,sigma)*image[i]+gaussian(1,sigma)*(image[i+1])+gaussian(1,sigma)*(image[i-1])+gaussian(1,sigma)*(image[i+28])+gaussian(math.sqrt(2),sigma)*(image[i+27])+gaussian(math.sqrt(2),sigma)*(image[i+29]))/total\n",
    "            elif i>=28*27:\n",
    "                if i%28==0:\n",
    "                    total=gaussian(0,sigma)+2*gaussian(1,sigma)+gaussian(math.sqrt(2),sigma)\n",
    "                    blurred_image[i]=(gaussian(0,sigma)*image[i]+gaussian(1,sigma)*(image[i-1])+gaussian(1,sigma)*(image[i-28])+gaussian(math.sqrt(2),sigma)*(image[i-27]))/total\n",
    "                elif i%28==27:\n",
    "                    total=gaussian(0,sigma)+2*gaussian(1,sigma)+gaussian(math.sqrt(2),sigma)\n",
    "                    blurred_image[i]=(gaussian(0,sigma)*image[i]+gaussian(1,sigma)*(image[i-1])+gaussian(1,sigma)*(image[i-28])+gaussian(math.sqrt(2),sigma)*(image[i-29]))/total\n",
    "                else:\n",
    "                    total=gaussian(0,sigma)+3*gaussian(1,sigma)+2*gaussian(math.sqrt(2),sigma)\n",
    "                    blurred_image[i]=(gaussian(0,sigma)*image[i]+gaussian(1,sigma)*(image[i+1])+gaussian(1,sigma)*(image[i-1])+gaussian(1,sigma)*(image[i-28])+gaussian(math.sqrt(2),sigma)*(image[i-27])+gaussian(math.sqrt(2),sigma)*(image[i-29]))/total\n",
    "            else:\n",
    "                if i%28==0:\n",
    "                    total=gaussian(0,sigma)+3*gaussian(1,sigma)+2*gaussian(math.sqrt(2),sigma)\n",
    "                    blurred_image[i]=(gaussian(0,sigma)*image[i]+gaussian(1,sigma)*(image[i+1])+gaussian(1,sigma)*(image[i-28])+gaussian(1,sigma)*(image[i+28])+gaussian(math.sqrt(2),sigma)*(image[i-27])+gaussian(math.sqrt(2),sigma)*(image[i+29]))/total\n",
    "                elif i%28==27:\n",
    "                    total=gaussian(0,sigma)+3*gaussian(1,sigma)+2*gaussian(math.sqrt(2),sigma)\n",
    "                    blurred_image[i]=(gaussian(0,sigma)*image[i]+gaussian(1,sigma)*(image[i-1])+gaussian(1,sigma)*(image[i-28])+gaussian(1,sigma)*(image[i+28])+gaussian(math.sqrt(2),sigma)*(image[i+27])+gaussian(math.sqrt(2),sigma)*(image[i-29]))/total\n",
    "                else:\n",
    "                    total=gaussian(0,sigma)+4*gaussian(1,sigma)+4*gaussian(math.sqrt(2),sigma)\n",
    "                    blurred_image[i]=(gaussian(0,sigma)*image[i]+gaussian(1,sigma)*(image[i+1])+gaussian(1,sigma)*(image[i-1])+gaussian(1,sigma)*(image[i-28])+gaussian(1,sigma)*(image[i+28])+gaussian(1,sigma)*(image[i+28])+gaussian(math.sqrt(2),sigma)*(image[i-27])+gaussian(math.sqrt(2),sigma)*(image[i+29])+gaussian(1,sigma)*(image[i+28])+gaussian(math.sqrt(2),sigma)*(image[i+27])+gaussian(math.sqrt(2),sigma)*(image[i-29]))/total\n",
    "        \n",
    "        blurred_dev_data[j]=blurred_image\n",
    "\n",
    "    model=KNeighborsClassifier(n_neighbors=1)\n",
    "    tests=[['blurred_train_data','dev_data'],['train_data','blurred_dev_data'],['blurred_train_data','blurred_dev_data']]\n",
    "    for test in tests:\n",
    "        X=eval(test[0])\n",
    "        Y=eval(test[1])\n",
    "        model.fit(X,train_labels)\n",
    "        result=classification_report(model.predict(Y),dev_labels,labels=list(range(10)))\n",
    "        print(\"Results of Nearest-Neighbor model trained on %s to predict %s.\"%(test[0],test[1]))\n",
    "        print(result)\n",
    "    \n",
    "def gaussian(dist,sigma):\n",
    "    return (1/(2*math.pi*(sigma**2)))*(math.exp(-dist/(sigma**2)))       \n",
    "### STUDENT END ###\n",
    "\n",
    "\n",
    "P6()"
   ]
  },
  {
   "cell_type": "code",
   "execution_count": null,
   "metadata": {},
   "outputs": [],
   "source": [
    "del blurred_train_data\n",
    "del blurred_dev_data\n",
    "del tests"
   ]
  },
  {
   "cell_type": "markdown",
   "metadata": {},
   "source": [
    "ANSWER: Blurring is most effective when applied to both sets, but marginally more effective when applied only to the training set than only to the test set. The results over the normal 1-NN model with no blurring is not substantial for the whole training set.\n",
    "--"
   ]
  },
  {
   "cell_type": "markdown",
   "metadata": {},
   "source": [
    "(7) Fit a Naive Bayes classifier and report accuracy on the dev data. Remember that Naive Bayes estimates P(feature|label). While sklearn can handle real-valued features, let's start by mapping the pixel values to either 0 or 1. You can do this as a preprocessing step, or with the binarize argument. With binary-valued features, you can use BernoulliNB. Next try mapping the pixel values to 0, 1, or 2, representing white, grey, or black. This mapping requires MultinomialNB. Does the multi-class version improve the results? Why or why not?"
   ]
  },
  {
   "cell_type": "code",
   "execution_count": 17,
   "metadata": {},
   "outputs": [
    {
     "name": "stdout",
     "output_type": "stream",
     "text": [
      "Results of Naive Bayes model on binarized black/white train data:\n",
      "             precision    recall  f1-score   support\n",
      "\n",
      "          0       0.97      0.88      0.92       109\n",
      "          1       0.96      0.86      0.91       118\n",
      "          2       0.78      0.87      0.82        92\n",
      "          3       0.74      0.63      0.68       102\n",
      "          4       0.78      0.89      0.83        91\n",
      "          5       0.63      0.81      0.71        70\n",
      "          6       0.89      0.87      0.88       100\n",
      "          7       0.76      0.91      0.83        94\n",
      "          8       0.77      0.74      0.76       100\n",
      "          9       0.84      0.72      0.77       124\n",
      "\n",
      "avg / total       0.82      0.81      0.82      1000\n",
      "\n",
      "Results of Naive Bayes model on binned black/grey/white train data:\n",
      "             precision    recall  f1-score   support\n",
      "\n",
      "          0       0.95      0.90      0.92       105\n",
      "          1       0.90      0.90      0.90       105\n",
      "          2       0.79      0.84      0.82        96\n",
      "          3       0.72      0.61      0.66       101\n",
      "          4       0.69      0.92      0.79        78\n",
      "          5       0.58      0.78      0.67        68\n",
      "          6       0.90      0.85      0.88       103\n",
      "          7       0.75      0.97      0.85        88\n",
      "          8       0.75      0.63      0.69       114\n",
      "          9       0.85      0.63      0.73       142\n",
      "\n",
      "avg / total       0.80      0.79      0.79      1000\n",
      "\n"
     ]
    }
   ],
   "source": [
    "def P7():\n",
    "\n",
    "### STUDENT START ###\n",
    "    \n",
    "    binarized_train_data=binarize_image(mini_train_data)\n",
    "    binarized_dev_data=binarize_image(dev_data)\n",
    "    model1=BernoulliNB()\n",
    "    model1.fit(binarized_train_data,mini_train_labels)\n",
    "    result1=classification_report(model1.predict(binarized_dev_data),dev_labels,labels=list(range(10)))\n",
    "    print(\"Results of Naive Bayes model on binarized black/white train data:\")\n",
    "    print(result1)\n",
    "    \n",
    "    #grey_threshold=np.mean(train_data[train_data>0])\n",
    "    grey_threshold=np.median(mini_train_data[mini_train_data>0])\n",
    "    binned_train_data=bin_image(mini_train_data,thresholds=[0,grey_threshold])\n",
    "    binned_dev_data=bin_image(dev_data)\n",
    "    model2=MultinomialNB()\n",
    "    model2.fit(binned_train_data,mini_train_labels)\n",
    "    result2=classification_report(model2.predict(binned_dev_data),dev_labels,labels=list(range(10)))\n",
    "    print(\"Results of Naive Bayes model on binned black/grey/white train data:\")\n",
    "    print(result2)\n",
    "    \n",
    "vector_int=np.vectorize(int)\n",
    "def binarize_image(image_array):\n",
    "    return vector_int(image_array>0)\n",
    "\n",
    "# white values are zeros, but need to choose threshold for gray/black, \n",
    "# which can simply be zero or can be calculated from the mean or median of the train_data\n",
    "def bin_image(image_array,thresholds=[0,0.5]):\n",
    "    return vector_int(image_array>thresholds[0])+vector_int(image_array>thresholds[1])\n",
    "    \n",
    "### STUDENT END ###\n",
    "P7()"
   ]
  },
  {
   "cell_type": "code",
   "execution_count": 19,
   "metadata": {},
   "outputs": [
    {
     "name": "stdout",
     "output_type": "stream",
     "text": [
      "Variable                Type         Data/Info\n",
      "----------------------------------------------\n",
      "BernoulliNB             ABCMeta      <class 'sklearn.naive_bayes.BernoulliNB'>\n",
      "GaussianNB              ABCMeta      <class 'sklearn.naive_bayes.GaussianNB'>\n",
      "GridSearchCV            ABCMeta      <class 'sklearn.grid_search.GridSearchCV'>\n",
      "KNeighborsClassifier    ABCMeta      <class 'sklearn.neighbors<...>on.KNeighborsClassifier'>\n",
      "LinearRegression        ABCMeta      <class 'sklearn.linear_mo<...>l.base.LinearRegression'>\n",
      "MultinomialNB           ABCMeta      <class 'sklearn.naive_bayes.MultinomialNB'>\n",
      "MultipleLocator         type         <class 'matplotlib.ticker.MultipleLocator'>\n",
      "P7                      function     <function P7 at 0x0F3BCAE0>\n",
      "P8                      function     <function P8 at 0x029185D0>\n",
      "Pipeline                ABCMeta      <class 'sklearn.pipeline.Pipeline'>\n",
      "alphas                  dict         n=1\n",
      "bin_image               function     <function bin_image at 0x04C75810>\n",
      "binarize_image          function     <function binarize_image at 0x0F3B56F0>\n",
      "classification_report   function     <function classification_report at 0x0E804CD8>\n",
      "confusion_matrix        function     <function confusion_matrix at 0x0E8049C0>\n",
      "dev_data                ndarray      1000x784: 784000 elems, type `float64`, 6272000 bytes (5.9814453125 Mb)\n",
      "dev_labels              ndarray      1000: 1000 elems, type `float64`, 8000 bytes\n",
      "fetch_mldata            function     <function fetch_mldata at 0x0E72D078>\n",
      "mini_train_data         ndarray      1000x784: 784000 elems, type `float64`, 6272000 bytes (5.9814453125 Mb)\n",
      "mini_train_labels       ndarray      1000: 1000 elems, type `float64`, 8000 bytes\n",
      "mnist                   Bunch        {'DESCR': 'mldata.org dat<...> 0, 0, 0]], dtype=uint8)}\n",
      "np                      module       <module 'numpy' from 'C:\\<...>ges\\\\numpy\\\\__init__.py'>\n",
      "plt                     module       <module 'matplotlib.pyplo<...>\\\\matplotlib\\\\pyplot.py'>\n",
      "shuffle                 ndarray      70000: 70000 elems, type `int32`, 280000 bytes (273.4375 kb)\n",
      "test_data               ndarray      9000x784: 7056000 elems, type `float64`, 56448000 bytes (53.8330078125 Mb)\n",
      "test_labels             ndarray      9000: 9000 elems, type `float64`, 72000 bytes\n",
      "time                    module       <module 'time' (built-in)>\n",
      "train_data              ndarray      60000x784: 47040000 elems, type `float64`, 376320000 bytes (358.88671875 Mb)\n",
      "train_labels            ndarray      60000: 60000 elems, type `float64`, 480000 bytes (468.75 kb)\n",
      "vector_int              vectorize    <numpy.lib.function_base.<...>ize object at 0x029425F0>\n"
     ]
    }
   ],
   "source": [
    "whos"
   ]
  },
  {
   "cell_type": "markdown",
   "metadata": {},
   "source": [
    "ANSWER: The Binomial Naive Bayes classifier actually performs better, which reflects the idea that adding a grey option probably more strongly contradicts the naive-bayes assumption of conditional independences. That is to say that the probability of grey in a pixel value for one image of a digit probably increases the probablility of black in that pixel value for other images of the same digit and vice versa. Grey values could be an indicator that regions represent the perimeters of specific digits, however this is probably very sensitive to the orientation of the images, and thus not as valuable. Instead, pixels that are commonly marked in a digit are probably marked either grey or black most of the time, and seldom white, but grey or black values may be largely interchangable.\n",
    "--"
   ]
  },
  {
   "cell_type": "markdown",
   "metadata": {},
   "source": [
    "(8) Use GridSearchCV to perform a search over values of alpha (the Laplace smoothing parameter) in a Bernoulli NB model. What is the best value for alpha? What is the accuracy when alpha=0? Is this what you'd expect?\n",
    "\n",
    "- Note that GridSearchCV partitions the training data so the results will be a bit different than if you used the dev data for evaluation."
   ]
  },
  {
   "cell_type": "code",
   "execution_count": 20,
   "metadata": {},
   "outputs": [
    {
     "name": "stderr",
     "output_type": "stream",
     "text": [
      "C:\\Users\\adpra\\Anaconda3\\lib\\site-packages\\sklearn\\naive_bayes.py:472: UserWarning: alpha too small will result in numeric errors, setting alpha = 1.0e-10\n",
      "  'setting alpha = %.1e' % _ALPHA_MIN)\n",
      "C:\\Users\\adpra\\Anaconda3\\lib\\site-packages\\sklearn\\naive_bayes.py:472: UserWarning: alpha too small will result in numeric errors, setting alpha = 1.0e-10\n",
      "  'setting alpha = %.1e' % _ALPHA_MIN)\n",
      "C:\\Users\\adpra\\Anaconda3\\lib\\site-packages\\sklearn\\naive_bayes.py:472: UserWarning: alpha too small will result in numeric errors, setting alpha = 1.0e-10\n",
      "  'setting alpha = %.1e' % _ALPHA_MIN)\n"
     ]
    }
   ],
   "source": [
    "def P8(alphas):\n",
    "\n",
    "### STUDENT START ###\n",
    "    \n",
    "    binarized_train_data=binarize_image(mini_train_data)\n",
    "    binarized_dev_data=binarize_image(dev_data)\n",
    "    clf=GridSearchCV(BernoulliNB(),alphas)\n",
    "    clf.fit(binarized_train_data,mini_train_labels)\n",
    "    \n",
    "    \n",
    "    return clf\n",
    "    \n",
    "### STUDENT END ###\n",
    "\n",
    "alphas = {'alpha': [0.0, 0.0001, 0.001, 0.01, 0.1, 0.5, 1.0, 2.0, 10.0]}\n",
    "nb = P8(alphas)"
   ]
  },
  {
   "cell_type": "code",
   "execution_count": 26,
   "metadata": {},
   "outputs": [
    {
     "name": "stdout",
     "output_type": "stream",
     "text": [
      "Best alpha parameter value:\n",
      "{'alpha': 0.1}\n",
      "Results of Naive Bayes model with alpha=0:\n",
      "             precision    recall  f1-score   support\n",
      "\n",
      "          0       0.95      0.92      0.94       102\n",
      "          1       0.90      0.95      0.93       100\n",
      "          2       0.79      0.74      0.77       109\n",
      "          3       0.77      0.65      0.70       102\n",
      "          4       0.72      0.88      0.79        85\n",
      "          5       0.67      0.71      0.69        86\n",
      "          6       0.89      0.86      0.87       101\n",
      "          7       0.73      0.86      0.79        96\n",
      "          8       0.75      0.71      0.73       101\n",
      "          9       0.78      0.70      0.74       118\n",
      "\n",
      "avg / total       0.80      0.80      0.80      1000\n",
      "\n"
     ]
    },
    {
     "name": "stderr",
     "output_type": "stream",
     "text": [
      "C:\\Users\\adpra\\Anaconda3\\lib\\site-packages\\sklearn\\naive_bayes.py:472: UserWarning: alpha too small will result in numeric errors, setting alpha = 1.0e-10\n",
      "  'setting alpha = %.1e' % _ALPHA_MIN)\n"
     ]
    }
   ],
   "source": [
    "print(\"Best alpha parameter value:\")\n",
    "print(nb.best_params_)\n",
    "model=BernoulliNB(alpha=0)\n",
    "binarized_train_data=binarize_image(mini_train_data)\n",
    "binarized_dev_data=binarize_image(dev_data)\n",
    "model.fit(binarized_train_data,mini_train_labels)\n",
    "result=classification_report(model.predict(binarized_dev_data),dev_labels,labels=list(range(10)))\n",
    "print(\"Results of Naive Bayes model with alpha=0:\")\n",
    "print(result)"
   ]
  },
  {
   "cell_type": "markdown",
   "metadata": {},
   "source": [
    "ANSWER: The optimal alpha parameter chosen in 0.1. When alpha=0, the accuracy is 80% using the mini training set. It seems like this only works because the classifier by default sets a non-zero minimum for alpha if alpha input is zero, in order to address the potential error that it seems like this question is addressing that if alpha is zero and a posterior probability as a result returns zero, it will dictate all classification results.\n",
    "--"
   ]
  },
  {
   "cell_type": "markdown",
   "metadata": {},
   "source": [
    "(9) Try training a model using GuassianNB, which is intended for real-valued features, and evaluate on the dev data. You'll notice that it doesn't work so well. Try to diagnose the problem. You should be able to find a simple fix that returns the accuracy to around the same rate as BernoulliNB. Explain your solution.\n",
    "\n",
    "Hint: examine the parameters estimated by the fit() method, theta\\_ and sigma\\_."
   ]
  },
  {
   "cell_type": "code",
   "execution_count": 42,
   "metadata": {},
   "outputs": [
    {
     "name": "stdout",
     "output_type": "stream",
     "text": [
      "Results of Gaussian Naive Bayes model fit on mini training subset:\n",
      "             precision    recall  f1-score   support\n",
      "\n",
      "          0       0.84      0.75      0.79       110\n",
      "          1       0.89      0.82      0.85       113\n",
      "          2       0.39      0.62      0.48        65\n",
      "          3       0.45      0.62      0.52        63\n",
      "          4       0.39      0.80      0.53        51\n",
      "          5       0.36      0.52      0.43        64\n",
      "          6       0.88      0.69      0.77       125\n",
      "          7       0.48      0.84      0.61        64\n",
      "          8       0.61      0.41      0.49       145\n",
      "          9       0.88      0.47      0.61       200\n",
      "\n",
      "avg / total       0.69      0.62      0.63      1000\n",
      "\n",
      "Results of Gaussian Naive Bayes model after mean-centering and scaling training and dev sets:\n",
      "             precision    recall  f1-score   support\n",
      "\n",
      "          0       0.84      0.75      0.79       110\n",
      "          1       0.89      0.82      0.85       113\n",
      "          2       0.39      0.62      0.48        65\n",
      "          3       0.45      0.62      0.52        63\n",
      "          4       0.39      0.80      0.53        51\n",
      "          5       0.36      0.52      0.43        64\n",
      "          6       0.88      0.69      0.77       125\n",
      "          7       0.48      0.84      0.61        64\n",
      "          8       0.61      0.41      0.49       145\n",
      "          9       0.88      0.47      0.61       200\n",
      "\n",
      "avg / total       0.69      0.62      0.63      1000\n",
      "\n"
     ]
    }
   ],
   "source": [
    "def P9():\n",
    "\n",
    "### STUDENT END ###\n",
    "    model=GaussianNB()\n",
    "    model.fit(mini_train_data,mini_train_labels)\n",
    "    result=classification_report(model.predict(dev_data),dev_labels,labels=list(range(10)))\n",
    "    print(\"Results of Gaussian Naive Bayes model fit on mini training subset:\")\n",
    "    print(result)\n",
    "    theta=np.empty(shape=np.shape(mini_train_data[0]))\n",
    "    sigma=np.empty(shape=np.shape(mini_train_data[0]))\n",
    "    for i in range(len(mini_train_data[0])):\n",
    "        theta[i]=mini_train_data[:][i].mean()\n",
    "        sigma=mini_train_data[:][i].std()\n",
    "    scaled_train_data=(mini_train_data-theta)/(sigma)\n",
    "    scaled_dev_data=(dev_data-theta)/sigma\n",
    "    model=GaussianNB()\n",
    "    model.fit(scaled_train_data,mini_train_labels)\n",
    "    result=classification_report(model.predict(scaled_dev_data),dev_labels,labels=list(range(10)))\n",
    "    print(\"Results of Gaussian Naive Bayes model after mean-centering and scaling training and dev sets:\")\n",
    "    print(result)\n",
    "    return model\n",
    "\n",
    "### STUDENT END ###\n",
    "\n",
    "gnb = P9()"
   ]
  },
  {
   "cell_type": "markdown",
   "metadata": {},
   "source": [
    "ANSWER: I had thought that the issue might be a lack of standardization, however this returns the exact same results as this standardization does not change the posterior at all for the Gaussian model it simply changes the computed values of theta and sigma in accordance with the scaling of the input. Not sure what the solution here is.\n",
    "--"
   ]
  },
  {
   "cell_type": "markdown",
   "metadata": {},
   "source": [
    "(10) Because Naive Bayes is a generative model, we can use the trained model to generate digits. Train a BernoulliNB model and then generate a 10x20 grid with 20 examples of each digit. Because you're using a Bernoulli model, each pixel output will be either 0 or 1. How do the generated digits compare to the training digits?\n",
    "\n",
    "- You can use np.random.rand() to generate random numbers from a uniform distribution\n",
    "- The estimated probability of each pixel is stored in feature\\_log\\_prob\\_. You'll need to use np.exp() to convert a log probability back to a probability."
   ]
  },
  {
   "cell_type": "code",
   "execution_count": 66,
   "metadata": {},
   "outputs": [
    {
     "data": {
      "image/png": "[encoded data removed]",
      "text/plain": [
       "<matplotlib.figure.Figure at 0x146059f0>"
      ]
     },
     "metadata": {},
     "output_type": "display_data"
    }
   ],
   "source": [
    "def P10(num_examples):\n",
    "\n",
    "### STUDENT START ###\n",
    "    model=BernoulliNB()\n",
    "    binarized_train_data=binarize_image(mini_train_data)\n",
    "    binarized_dev_data=binarize_image(dev_data)\n",
    "    model.fit(binarized_train_data,mini_train_labels)\n",
    "    feature_probs=np.exp(model.feature_log_prob_)\n",
    "    plt.rcParams['figure.figsize']=[20,15]\n",
    "    fig = plt.figure()\n",
    "    plt.rc('gray')\n",
    "    digits=np.random.rand(10,num_examples,784)\n",
    "    for i in range(10):\n",
    "        for j in range(num_examples):\n",
    "            digit=vector_int(digits[i][j]<=feature_probs[i])\n",
    "            image_data=np.reshape(digit,(-1,28))\n",
    "            plt.subplot(10,20,i*20+j+1)\n",
    "            plt.imshow(image_data,interpolation='nearest', cmap='Greys')    \n",
    "\n",
    "### STUDENT END ###\n",
    "P10(20)"
   ]
  },
  {
   "cell_type": "markdown",
   "metadata": {},
   "source": [
    "ANSWER: The generated digits are almost all recognizable as the correct digits, however they have little gaps dispersed throughout the number, in contrast to the smoothness of handwritten digits. Furthermore, there are random black pixels sparsely distributed around the digits themselves. This is because we binarize the pixel values, so some typically grey pixels will be white and some typically white pixels will be black.\n",
    "--"
   ]
  },
  {
   "cell_type": "markdown",
   "metadata": {},
   "source": [
    "(11) Remember that a strongly calibrated classifier is rougly 90% accurate when the posterior probability of the predicted class is 0.9. A weakly calibrated classifier is more accurate when the posterior is 90% than when it is 80%. A poorly calibrated classifier has no positive correlation between posterior and accuracy.\n",
    "\n",
    "Train a BernoulliNB model with a reasonable alpha value. For each posterior bucket (think of a bin in a histogram), you want to estimate the classifier's accuracy. So for each prediction, find the bucket the maximum posterior belongs to and update the \"correct\" and \"total\" counters.\n",
    "\n",
    "How would you characterize the calibration for the Naive Bayes model?"
   ]
  },
  {
   "cell_type": "code",
   "execution_count": 70,
   "metadata": {},
   "outputs": [
    {
     "name": "stdout",
     "output_type": "stream",
     "text": [
      "[[  6.50984597e-079   2.43982906e-078   6.62399115e-054   1.59116349e-046\n",
      "    9.99995657e-001   7.84735217e-030   2.16640209e-051   2.96580579e-025\n",
      "    1.34217772e-037   4.34315536e-006]\n",
      " [  1.10848178e-048   1.34032724e-126   2.70153217e-048   1.00000000e+000\n",
      "    3.34651231e-086   2.28985332e-030   3.42837940e-107   5.79865281e-087\n",
      "    1.49188151e-049   1.05127728e-090]]\n",
      "[ 0.99999566  1.        ]\n",
      "[ 4.  3.]\n"
     ]
    }
   ],
   "source": [
    "model=BernoulliNB(alpha=.1)\n",
    "binarized_train_data=binarize_image(mini_train_data)\n",
    "binarized_dev_data=binarize_image(dev_data)\n",
    "model.fit(binarized_train_data,mini_train_labels)\n",
    "print(model.predict_proba(binarized_dev_data[0:2]))\n",
    "post_probs=np.amax(model.predict_proba(binarized_dev_data[0:2]),axis=1)\n",
    "print(post_probs)\n",
    "print(model.predict(binarized_dev_data[0:2]))"
   ]
  },
  {
   "cell_type": "code",
   "execution_count": 80,
   "metadata": {},
   "outputs": [
    {
     "name": "stdout",
     "output_type": "stream",
     "text": [
      "[0, 0, 0, 0, 0, 0, 0, 0, 0]\n",
      "[0, 0, 0, 0, 0, 0, 0, 0, 0]\n",
      "[0, 12, 35, 23, 39, 25, 42, 39, 601]\n",
      "[2, 31, 71, 53, 64, 46, 52, 49, 632]\n",
      "p(pred) <= 0.5000000000000    total =   2    accuracy = 0.000\n",
      "p(pred) <= 0.9000000000000    total =  31    accuracy = 0.387\n",
      "p(pred) <= 0.9990000000000    total =  71    accuracy = 0.493\n",
      "p(pred) <= 0.9999900000000    total =  53    accuracy = 0.434\n",
      "p(pred) <= 0.9999999000000    total =  64    accuracy = 0.609\n",
      "p(pred) <= 0.9999999990000    total =  46    accuracy = 0.543\n",
      "p(pred) <= 0.9999999999900    total =  52    accuracy = 0.808\n",
      "p(pred) <= 0.9999999999999    total =  49    accuracy = 0.796\n",
      "p(pred) <= 1.0000000000000    total = 632    accuracy = 0.951\n"
     ]
    }
   ],
   "source": [
    "def P11(buckets, correct, total):\n",
    "    \n",
    "### STUDENT START ###\n",
    "    model=BernoulliNB(alpha=.1)\n",
    "    binarized_train_data=binarize_image(mini_train_data)\n",
    "    binarized_dev_data=binarize_image(dev_data)\n",
    "    model.fit(binarized_train_data,mini_train_labels)\n",
    "    post_probs=np.amax(model.predict_proba(binarized_dev_data),axis=1)\n",
    "    total[0]=np.sum(post_probs<=buckets[0])\n",
    "    correct[0]=np.sum(np.logical_and(post_probs<=buckets[0],model.predict(binarized_dev_data)==dev_labels))\n",
    "    for i in range(1,len(buckets)):\n",
    "        total[i]=np.sum(np.logical_and(post_probs>buckets[i-1],post_probs<=buckets[i]))\n",
    "        correct[i]=np.sum(np.logical_and(np.logical_and(post_probs>buckets[i-1],post_probs<=buckets[i]),model.predict(binarized_dev_data)==dev_labels))\n",
    "    \n",
    "                \n",
    "### STUDENT END ###\n",
    "\n",
    "buckets = [0.5, 0.9, 0.999, 0.99999, 0.9999999, 0.999999999, 0.99999999999, 0.9999999999999, 1.0]\n",
    "correct = [0 for i in buckets]\n",
    "total = [0 for i in buckets]\n",
    "print(correct)\n",
    "print(total)\n",
    "P11(buckets, correct, total)\n",
    "print(correct)\n",
    "print(total)\n",
    "for i in range(len(buckets)):\n",
    "    accuracy = 0.0\n",
    "    if (total[i] > 0): accuracy = correct[i] / total[i]\n",
    "    print('p(pred) <= %.13f    total = %3d    accuracy = %.3f' %(buckets[i], total[i], accuracy))"
   ]
  },
  {
   "cell_type": "markdown",
   "metadata": {},
   "source": [
    "ANSWER: The Naive Bayes model seems to be a weakly calibrated classifier. Clearly accuracy increases with the posterior probability, however much less rapidly. It is not until the final bucket, when posterior probability is within 10e-13 of 100% certainty, that classification accuracy even breaches 90%, and yet most examples fall into this bucket. I take this to be representative of the poor conditional independence assumption in this example where nearby pixels are fairly strongly correlated in our data.\n",
    "--"
   ]
  },
  {
   "cell_type": "markdown",
   "metadata": {},
   "source": [
    "(12) EXTRA CREDIT\n",
    "\n",
    "Try designing extra features to see if you can improve the performance of Naive Bayes on the dev set. Here are a few ideas to get you started:\n",
    "- Try summing the pixel values in each row and each column.\n",
    "- Try counting the number of enclosed regions; 8 usually has 2 enclosed regions, 9 usually has 1, and 7 usually has 0.\n",
    "\n",
    "Make sure you comment your code well!"
   ]
  },
  {
   "cell_type": "code",
   "execution_count": 18,
   "metadata": {},
   "outputs": [],
   "source": [
    "#def P12():\n",
    "\n",
    "### STUDENT START ###\n",
    "\n",
    "\n",
    "### STUDENT END ###\n",
    "\n",
    "#P12()"
   ]
  }
 ],
 "metadata": {
  "kernelspec": {
   "display_name": "Python 3",
   "language": "python",
   "name": "python3"
  },
  "language_info": {
   "codemirror_mode": {
    "name": "ipython",
    "version": 3
   },
   "file_extension": ".py",
   "mimetype": "text/x-python",
   "name": "python",
   "nbconvert_exporter": "python",
   "pygments_lexer": "ipython3",
   "version": "3.6.3"
  }
 },
 "nbformat": 4,
 "nbformat_minor": 1
}
