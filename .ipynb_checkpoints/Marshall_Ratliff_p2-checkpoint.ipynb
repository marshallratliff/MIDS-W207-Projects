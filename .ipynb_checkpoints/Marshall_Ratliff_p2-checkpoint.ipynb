{
 "cells": [
  {
   "cell_type": "markdown",
   "metadata": {},
   "source": [
    "# Project 2: Topic Classification"
   ]
  },
  {
   "cell_type": "markdown",
   "metadata": {},
   "source": [
    "In this project, you'll work with text data from newsgroup postings on a variety of topics. You'll train classifiers to distinguish between the topics based on the text of the posts. Whereas with digit classification, the input is relatively dense: a 28x28 matrix of pixels, many of which are non-zero, here we'll represent each document with a \"bag-of-words\" model. As you'll see, this makes the feature representation quite sparse -- only a few words of the total vocabulary are active in any given document. The bag-of-words assumption here is that the label depends only on the words; their order is not important.\n",
    "\n",
    "The SK-learn documentation on feature extraction will prove useful:\n",
    "http://scikit-learn.org/stable/modules/feature_extraction.html\n",
    "\n",
    "Each problem can be addressed succinctly with the included packages -- please don't add any more. Grading will be based on writing clean, commented code, along with a few short answers.\n",
    "\n",
    "As always, you're welcome to work on the project in groups and discuss ideas on the course wall, but please prepare your own write-up and write your own code."
   ]
  },
  {
   "cell_type": "code",
   "execution_count": 1,
   "metadata": {},
   "outputs": [
    {
     "name": "stderr",
     "output_type": "stream",
     "text": [
      "C:\\Users\\adpra\\Anaconda3\\lib\\site-packages\\sklearn\\cross_validation.py:41: DeprecationWarning: This module was deprecated in version 0.18 in favor of the model_selection module into which all the refactored classes and functions are moved. Also note that the interface of the new CV iterators are different from that of this module. This module will be removed in 0.20.\n",
      "  \"This module will be removed in 0.20.\", DeprecationWarning)\n",
      "C:\\Users\\adpra\\Anaconda3\\lib\\site-packages\\sklearn\\grid_search.py:42: DeprecationWarning: This module was deprecated in version 0.18 in favor of the model_selection module into which all the refactored classes and functions are moved. This module will be removed in 0.20.\n",
      "  DeprecationWarning)\n"
     ]
    }
   ],
   "source": [
    "# This tells matplotlib not to try opening a new window for each plot.\n",
    "%matplotlib inline\n",
    "\n",
    "# General libraries.\n",
    "import re\n",
    "import numpy as np\n",
    "import matplotlib.pyplot as plt\n",
    "\n",
    "# SK-learn libraries for learning.\n",
    "from sklearn.pipeline import Pipeline\n",
    "from sklearn.neighbors import KNeighborsClassifier\n",
    "from sklearn.linear_model import LogisticRegression\n",
    "from sklearn.naive_bayes import BernoulliNB\n",
    "from sklearn.naive_bayes import MultinomialNB\n",
    "from sklearn.grid_search import GridSearchCV\n",
    "\n",
    "# SK-learn libraries for evaluation.\n",
    "from sklearn.metrics import confusion_matrix\n",
    "from sklearn import metrics\n",
    "from sklearn.metrics import classification_report\n",
    "\n",
    "# SK-learn library for importing the newsgroup data.\n",
    "from sklearn.datasets import fetch_20newsgroups\n",
    "\n",
    "# SK-learn libraries for feature extraction from text.\n",
    "from sklearn.feature_extraction.text import *"
   ]
  },
  {
   "cell_type": "markdown",
   "metadata": {},
   "source": [
    "Load the data, stripping out metadata so that we learn classifiers that only use textual features. By default, newsgroups data is split into train and test sets. We further split the test so we have a dev set. Note that we specify 4 categories to use for this project. If you remove the categories argument from the fetch function, you'll get all 20 categories."
   ]
  },
  {
   "cell_type": "code",
   "execution_count": 2,
   "metadata": {},
   "outputs": [
    {
     "name": "stdout",
     "output_type": "stream",
     "text": [
      "training label shape: (2034,)\n",
      "test label shape: (677,)\n",
      "dev label shape: (676,)\n",
      "labels names: ['alt.atheism', 'comp.graphics', 'sci.space', 'talk.religion.misc']\n"
     ]
    }
   ],
   "source": [
    "categories = ['alt.atheism', 'talk.religion.misc', 'comp.graphics', 'sci.space']\n",
    "newsgroups_train = fetch_20newsgroups(subset='train',\n",
    "                                      remove=('headers', 'footers', 'quotes'),\n",
    "                                      categories=categories)\n",
    "newsgroups_test = fetch_20newsgroups(subset='test',\n",
    "                                     remove=('headers', 'footers', 'quotes'),\n",
    "                                     categories=categories)\n",
    "\n",
    "num_test = len(newsgroups_test.target)\n",
    "test_data, test_labels = newsgroups_test.data[int(num_test/2):], newsgroups_test.target[int(num_test/2):]\n",
    "dev_data, dev_labels = newsgroups_test.data[:int(num_test/2)], newsgroups_test.target[:int(num_test/2)]\n",
    "train_data, train_labels = newsgroups_train.data, newsgroups_train.target\n",
    "\n",
    "print('training label shape:', train_labels.shape)\n",
    "print('test label shape:', test_labels.shape)\n",
    "print('dev label shape:', dev_labels.shape)\n",
    "print('labels names:', newsgroups_train.target_names)"
   ]
  },
  {
   "cell_type": "markdown",
   "metadata": {},
   "source": [
    "(1) For each of the first 5 training examples, print the text of the message along with the label.\n",
    "\n",
    "[2 pts]"
   ]
  },
  {
   "cell_type": "code",
   "execution_count": 90,
   "metadata": {
    "scrolled": true
   },
   "outputs": [
    {
     "name": "stdout",
     "output_type": "stream",
     "text": [
      "Training Example 1:\n",
      "Labeled as: comp.graphics\n",
      "\n",
      "Hi,\n",
      "\n",
      "I've noticed that if you only save a model (with all your mapping planes\n",
      "positioned carefully) to a .3DS file that when you reload it after restarting\n",
      "3DS, they are given a default position and orientation.  But if you save\n",
      "to a .PRJ file their positions/orientation are preserved.  Does anyone\n",
      "know why this information is not stored in the .3DS file?  Nothing is\n",
      "explicitly said in the manual about saving texture rules in the .PRJ file. \n",
      "I'd like to be able to read the texture rule information, does anyone have \n",
      "the format for the .PRJ file?\n",
      "\n",
      "Is the .CEL file format available from somewhere?\n",
      "\n",
      "Rych\n",
      "\n",
      "Training Example 2:\n",
      "Labeled as: talk.religion.misc\n",
      "\n",
      "\n",
      "\n",
      "Seems to be, barring evidence to the contrary, that Koresh was simply\n",
      "another deranged fanatic who thought it neccessary to take a whole bunch of\n",
      "folks with him, children and all, to satisfy his delusional mania. Jim\n",
      "Jones, circa 1993.\n",
      "\n",
      "\n",
      "Nope - fruitcakes like Koresh have been demonstrating such evil corruption\n",
      "for centuries.\n",
      "\n",
      "Training Example 3:\n",
      "Labeled as: sci.space\n",
      "\n",
      "\n",
      " >In article <1993Apr19.020359.26996@sq.sq.com>, msb@sq.sq.com (Mark Brader) \n",
      "\n",
      "MB>                                                             So the\n",
      "MB> 1970 figure seems unlikely to actually be anything but a perijove.\n",
      "\n",
      "JG>Sorry, _perijoves_...I'm not used to talking this language.\n",
      "\n",
      "Couldn't we just say periapsis or apoapsis?\n",
      "\n",
      " \n",
      "\n",
      "Training Example 4:\n",
      "Labeled as: alt.atheism\n",
      "\n",
      "I have a request for those who would like to see Charley Wingate\n",
      "respond to the \"Charley Challenges\" (and judging from my e-mail, there\n",
      "appear to be quite a few of you.)  \n",
      "\n",
      "It is clear that Mr. Wingate intends to continue to post tangential or\n",
      "unrelated articles while ingoring the Challenges themselves.  Between\n",
      "the last two re-postings of the Challenges, I noted perhaps a dozen or\n",
      "more posts by Mr. Wingate, none of which answered a single Challenge.  \n",
      "\n",
      "It seems unmistakable to me that Mr. Wingate hopes that the questions\n",
      "will just go away, and he is doing his level best to change the\n",
      "subject.  Given that this seems a rather common net.theist tactic, I\n",
      "would like to suggest that we impress upon him our desire for answers,\n",
      "in the following manner:\n",
      "\n",
      "1. Ignore any future articles by Mr. Wingate that do not address the\n",
      "Challenges, until he answers them or explictly announces that he\n",
      "refuses to do so.\n",
      "\n",
      "--or--\n",
      "\n",
      "2. If you must respond to one of his articles, include within it\n",
      "something similar to the following:\n",
      "\n",
      "    \"Please answer the questions posed to you in the Charley Challenges.\"\n",
      "\n",
      "Really, I'm not looking to humiliate anyone here, I just want some\n",
      "honest answers.  You wouldn't think that honesty would be too much to\n",
      "ask from a devout Christian, would you?  \n",
      "\n",
      "Nevermind, that was a rhetorical question.\n",
      "\n",
      "Training Example 5:\n",
      "Labeled as: sci.space\n",
      "\n",
      "AW&ST  had a brief blurb on a Manned Lunar Exploration confernce\n",
      "May 7th  at Crystal City Virginia, under the auspices of AIAA.\n",
      "\n",
      "Does anyone know more about this?  How much, to attend????\n",
      "\n",
      "Anyone want to go?\n",
      "\n"
     ]
    }
   ],
   "source": [
    "def P1(num_examples=5):\n",
    "### STUDENT START ###\n",
    "    for i in range(num_examples):\n",
    "        print(\"Training Example %d:\" % (i+1))\n",
    "        print(\"Labeled as:\",newsgroups_train.target_names[train_labels[i]])\n",
    "        print()\n",
    "        print(train_data[i])\n",
    "        print()\n",
    "\n",
    "### STUDENT END ###\n",
    "P1()"
   ]
  },
  {
   "cell_type": "markdown",
   "metadata": {},
   "source": [
    "(2) Use CountVectorizer to turn the raw training text into feature vectors. You should use the fit_transform function, which makes 2 passes through the data: first it computes the vocabulary (\"fit\"), second it converts the raw text into feature vectors using the vocabulary (\"transform\").\n",
    "\n",
    "The vectorizer has a lot of options. To get familiar with some of them, write code to answer these questions:\n",
    "\n",
    "a. The output of the transform (also of fit_transform) is a sparse matrix: http://docs.scipy.org/doc/scipy-0.14.0/reference/generated/scipy.sparse.csr_matrix.html. What is the size of the vocabulary? What is the average number of non-zero features per example? What fraction of the entries in the matrix are non-zero? Hint: use \"nnz\" and \"shape\" attributes.\n",
    "\n",
    "b. What are the 0th and last feature strings (in alphabetical order)? Hint: use the vectorizer's get_feature_names function.\n",
    "\n",
    "c. Specify your own vocabulary with 4 words: [\"atheism\", \"graphics\", \"space\", \"religion\"]. Confirm the training vectors are appropriately shaped. Now what's the average number of non-zero features per example?\n",
    "\n",
    "d. Instead of extracting unigram word features, use \"analyzer\" and \"ngram_range\" to extract bigram and trigram character features. What size vocabulary does this yield?\n",
    "\n",
    "e. Use the \"min_df\" argument to prune words that appear in fewer than 10 documents. What size vocabulary does this yield?\n",
    "\n",
    "f. Using the standard CountVectorizer, what fraction of the words in the dev data are missing from the vocabulary? Hint: build a vocabulary for both train and dev and look at the size of the difference.\n",
    "\n",
    "[6 pts]"
   ]
  },
  {
   "cell_type": "markdown",
   "metadata": {},
   "source": [
    "## Answer:\n",
    "\n",
    "a) Using the `CountVectorizer.fit_transform()` method we see that the corpus in `train_data` yields a vocabulary of 26879 words as our features, of which just under 97 are nonzero entries on average in the training data or about 0.36% of the matrix entries for the training data."
   ]
  },
  {
   "cell_type": "code",
   "execution_count": 92,
   "metadata": {},
   "outputs": [
    {
     "data": {
      "text/plain": [
       "<2034x26879 sparse matrix of type '<class 'numpy.int64'>'\n",
       "\twith 196700 stored elements in Compressed Sparse Row format>"
      ]
     },
     "execution_count": 92,
     "metadata": {},
     "output_type": "execute_result"
    }
   ],
   "source": [
    "vectorizer=CountVectorizer()\n",
    "X=vectorizer.fit_transform(train_data)\n",
    "X"
   ]
  },
  {
   "cell_type": "code",
   "execution_count": 93,
   "metadata": {},
   "outputs": [
    {
     "name": "stdout",
     "output_type": "stream",
     "text": [
      "Size of vocabulary: 26879\n",
      "Average # of nonzero entries (out of 26879 features) per example: 96.7059980334\n",
      "Average # of nonzero entries in matrix: 0.00359782722696\n"
     ]
    }
   ],
   "source": [
    "print(\"Size of vocabulary:\",np.shape(X)[1])\n",
    "print(\"Average # of nonzero entries (out of 26879 features) per example:\",np.sum(X.getnnz(1))/len(X.getnnz(1)))\n",
    "print(\"Average # of nonzero entries in matrix:\",np.sum(X.getnnz(1))/(np.shape(X)[0]*np.shape(X)[1]))"
   ]
  },
  {
   "cell_type": "markdown",
   "metadata": {},
   "source": [
    "b) The first and last feature strings are `'00'` and `'zyxel'`"
   ]
  },
  {
   "cell_type": "code",
   "execution_count": 96,
   "metadata": {},
   "outputs": [
    {
     "name": "stdout",
     "output_type": "stream",
     "text": [
      "First Feature: 00\n",
      "Last Features: zyxel\n"
     ]
    }
   ],
   "source": [
    "print(\"First Feature:\",vectorizer.get_feature_names()[0])\n",
    "print(\"Last Features:\",vectorizer.get_feature_names()[-1])"
   ]
  },
  {
   "cell_type": "markdown",
   "metadata": {},
   "source": [
    "c) As expected the 2034 training examples are now mapped into 4-dimensional vectors. On average, 0.27 of the 4 features are non-zero, i.e. 6.71% of the entries in the Matrix for the training data."
   ]
  },
  {
   "cell_type": "code",
   "execution_count": 97,
   "metadata": {},
   "outputs": [
    {
     "name": "stdout",
     "output_type": "stream",
     "text": [
      "(2034, 4)\n",
      "Average # of nonzero entries (out of 26879 features) per example: 0.268436578171\n",
      "Average # of nonzero entries in matrix: 0.0671091445428\n"
     ]
    }
   ],
   "source": [
    "vocab_list=[\"atheism\", \"graphics\", \"space\", \"religion\"]\n",
    "vectorizer=CountVectorizer(vocabulary=vocab_list)\n",
    "Y=vectorizer.fit_transform(train_data)\n",
    "print(np.shape(Y))\n",
    "print(\"Average # of nonzero entries (out of 26879 features) per example:\",np.sum(Y.getnnz(1))/len(Y.getnnz(1)))\n",
    "print(\"Average # of nonzero entries in matrix:\",np.sum(Y.getnnz(1))/(np.shape(X)[0]*np.shape(Y)[1]))"
   ]
  },
  {
   "cell_type": "markdown",
   "metadata": {},
   "source": [
    "d) The vocabulary using bi- and tri-gram character features includes 28954 features."
   ]
  },
  {
   "cell_type": "code",
   "execution_count": 98,
   "metadata": {},
   "outputs": [
    {
     "name": "stdout",
     "output_type": "stream",
     "text": [
      "Size of vocabulary: 28954\n"
     ]
    }
   ],
   "source": [
    "vectorizer=CountVectorizer(analyzer=\"char_wb\",ngram_range=(2,3))\n",
    "Z=vectorizer.fit_transform(train_data)\n",
    "print(\"Size of vocabulary:\",np.shape(Z)[1])"
   ]
  },
  {
   "cell_type": "markdown",
   "metadata": {},
   "source": [
    "e) The vocabulary using only words that appear in at least 10 documents includes 3064 word features."
   ]
  },
  {
   "cell_type": "code",
   "execution_count": 59,
   "metadata": {},
   "outputs": [
    {
     "name": "stdout",
     "output_type": "stream",
     "text": [
      "Size of vocabulary: 3064\n"
     ]
    }
   ],
   "source": [
    "vectorizer=CountVectorizer(min_df=10)\n",
    "x=vectorizer.fit_transform(train_data)\n",
    "print(\"Size of vocabulary:\",np.shape(x)[1])"
   ]
  },
  {
   "cell_type": "markdown",
   "metadata": {},
   "source": [
    "f) About 25% of the words in the dev data are missing in the training dataset."
   ]
  },
  {
   "cell_type": "code",
   "execution_count": 74,
   "metadata": {},
   "outputs": [
    {
     "name": "stdout",
     "output_type": "stream",
     "text": [
      "Fraction of dev data words missing from train data: 0.24787640034470024\n"
     ]
    }
   ],
   "source": [
    "vectorizer=CountVectorizer()\n",
    "X1=vectorizer.fit_transform(train_data)\n",
    "train_vocab=vectorizer.vocabulary_\n",
    "X2=vectorizer.fit_transform(dev_data)\n",
    "dev_vocab=vectorizer.vocabulary_\n",
    "print(\"Fraction of dev data words missing from train data:\",sum(list(map(lambda x: x not in train_vocab,list(dev_vocab.keys()))))/len(dev_vocab))"
   ]
  },
  {
   "cell_type": "code",
   "execution_count": 4,
   "metadata": {},
   "outputs": [],
   "source": [
    "#def P2():\n",
    "### STUDENT START ###\n",
    "#See work above for P2\n",
    "\n",
    "### STUDENT END ###\n",
    "#P2()"
   ]
  },
  {
   "cell_type": "markdown",
   "metadata": {},
   "source": [
    "(3) Use the default CountVectorizer options and report the f1 score (use metrics.f1_score) for a k nearest neighbors classifier; find the optimal value for k. Also fit a Multinomial Naive Bayes model and find the optimal value for alpha. Finally, fit a logistic regression model and find the optimal value for the regularization strength C using l2 regularization. A few questions:\n",
    "\n",
    "a. Why doesn't nearest neighbors work well for this problem?\n",
    "\n",
    "b. Any ideas why logistic regression doesn't work as well as Naive Bayes?\n",
    "\n",
    "c. Logistic regression estimates a weight vector for each class, which you can access with the coef\\_ attribute. Output the sum of the squared weight values for each class for each setting of the C parameter. Briefly explain the relationship between the sum and the value of C.\n",
    "\n",
    "[4 pts]"
   ]
  },
  {
   "cell_type": "code",
   "execution_count": 7,
   "metadata": {
    "scrolled": true
   },
   "outputs": [
    {
     "name": "stdout",
     "output_type": "stream",
     "text": [
      "(2034, 26879)\n",
      "(676, 26879)\n",
      "Accuracy for Nearest-Neighbors Classifier with k = 1\n",
      "F1-score = 0.368932357712\n",
      "Accuracy for Nearest-Neighbors Classifier with k = 3\n",
      "F1-score = 0.394275434863\n",
      "Accuracy for Nearest-Neighbors Classifier with k = 5\n",
      "F1-score = 0.414639891758\n",
      "Accuracy for Nearest-Neighbors Classifier with k = 7\n",
      "F1-score = 0.437093013011\n",
      "Accuracy for Nearest-Neighbors Classifier with k = 9\n",
      "F1-score = 0.423300505102\n",
      "Accuracy for Nearest-Neighbors Classifier with k = 11\n",
      "F1-score = 0.412756481823\n",
      "Accuracy for Nearest-Neighbors Classifier with k = 13\n",
      "F1-score = 0.40885223308\n",
      "Accuracy for Nearest-Neighbors Classifier with k = 15\n",
      "F1-score = 0.419110571941\n",
      "Accuracy for Nearest-Neighbors Classifier with k = 17\n",
      "F1-score = 0.433853095004\n",
      "Accuracy for Nearest-Neighbors Classifier with k = 19\n",
      "F1-score = 0.421233013424\n",
      "Accuracy for Nearest-Neighbors Classifier with k = 21\n",
      "F1-score = 0.412568869126\n",
      "Accuracy for Nearest-Neighbors Classifier with k = 23\n",
      "F1-score = 0.394318523481\n",
      "Accuracy for Nearest-Neighbors Classifier with k = 25\n",
      "F1-score = 0.400750051785\n"
     ]
    },
    {
     "name": "stderr",
     "output_type": "stream",
     "text": [
      "C:\\Users\\adpra\\Anaconda3\\lib\\site-packages\\sklearn\\naive_bayes.py:472: UserWarning: alpha too small will result in numeric errors, setting alpha = 1.0e-10\n",
      "  'setting alpha = %.1e' % _ALPHA_MIN)\n"
     ]
    },
    {
     "name": "stdout",
     "output_type": "stream",
     "text": [
      "Accuracy for Multinomial Naive Bayes Classifier with alpha = 0\n",
      "F1-score = 0.724813833811\n",
      "Accuracy for Multinomial Naive Bayes Classifier with alpha = 1\n",
      "F1-score = 0.757868761903\n",
      "Accuracy for Multinomial Naive Bayes Classifier with alpha = 2\n",
      "F1-score = 0.747085191654\n",
      "Accuracy for Multinomial Naive Bayes Classifier with alpha = 3\n",
      "F1-score = 0.728907806782\n",
      "Accuracy for Multinomial Naive Bayes Classifier with alpha = 4\n",
      "F1-score = 0.708488446281\n",
      "Accuracy for Multinomial Naive Bayes Classifier with alpha = 5\n",
      "F1-score = 0.696839676786\n",
      "Accuracy for Multinomial Naive Bayes Classifier with alpha = 6\n",
      "F1-score = 0.682982125448\n",
      "Accuracy for Multinomial Naive Bayes Classifier with alpha = 7\n",
      "F1-score = 0.666636366744\n",
      "Accuracy for Multinomial Naive Bayes Classifier with alpha = 8\n",
      "F1-score = 0.654428507385\n",
      "Accuracy for Multinomial Naive Bayes Classifier with alpha = 9\n",
      "F1-score = 0.646892376907\n",
      "Accuracy for Logistic Regression Classifier with C = 0.001\n",
      "F1-score = 0.596975399824\n",
      "Sum of squared weights from Logistic Regression model: [0.16509345166725001, 0.20095274690581924, 0.18067093754378444, 0.18724278437848704]\n",
      "Accuracy for Logistic Regression Classifier with C = 0.01\n",
      "F1-score = 0.644890525927\n",
      "Sum of squared weights from Logistic Regression model: [2.5414702740038821, 2.9397093683572924, 2.862469106047743, 2.2500288150356411]\n",
      "Accuracy for Logistic Regression Classifier with C = 0.1\n",
      "F1-score = 0.679433709916\n",
      "Sum of squared weights from Logistic Regression model: [27.132982769684542, 24.661271042723019, 27.458602598743884, 23.017047017255191]\n",
      "Accuracy for Logistic Regression Classifier with C = 0.25\n",
      "F1-score = 0.690858117116\n",
      "Sum of squared weights from Logistic Regression model: [59.827087102822084, 50.565009581648596, 58.943565778918178, 51.473469851956381]\n",
      "Accuracy for Logistic Regression Classifier with C = 0.5\n",
      "F1-score = 0.692015191511\n",
      "Sum of squared weights from Logistic Regression model: [102.59166855432061, 83.094560739793408, 99.021252602334016, 88.953721018781792]\n",
      "Accuracy for Logistic Regression Classifier with C = 1\n",
      "F1-score = 0.679326044357\n",
      "Sum of squared weights from Logistic Regression model: [166.99034110391287, 130.91361130953359, 157.88707057023797, 145.75541314229957]\n",
      "Accuracy for Logistic Regression Classifier with C = 10\n",
      "F1-score = 0.673994405471\n",
      "Sum of squared weights from Logistic Regression model: [585.52975142405478, 447.66935813429404, 539.36598607753695, 530.90561704809352]\n",
      "Accuracy for Logistic Regression Classifier with C = 50\n",
      "F1-score = 0.669344844971\n",
      "Sum of squared weights from Logistic Regression model: [1113.0676186249316, 864.87830583801474, 1020.5055192816141, 1030.0392500199471]\n",
      "Accuracy for Logistic Regression Classifier with C = 100\n",
      "F1-score = 0.667711635999\n",
      "Sum of squared weights from Logistic Regression model: [1399.1249844908252, 1090.6981778159445, 1290.8117341277771, 1322.1205196835274]\n",
      "Accuracy for Logistic Regression Classifier with C = 1000\n",
      "F1-score = 0.668588812566\n",
      "Sum of squared weights from Logistic Regression model: [2735.3890323458431, 1927.7602705816537, 2385.2326138367334, 2540.5727170023338]\n"
     ]
    }
   ],
   "source": [
    "def P3():\n",
    "### STUDENT START ###\n",
    "    vectorizer=CountVectorizer()\n",
    "    X=vectorizer.fit_transform(train_data)\n",
    "    Y=vectorizer.transform(dev_data)\n",
    "    print(np.shape(X))\n",
    "    print(np.shape(Y))\n",
    "    \n",
    "    k_values=[1,3,5,7,9,11,13,15,17,19,21,23,25]\n",
    "    #k_values=[7] #Best k-value among above tested values\n",
    "    for k in k_values:\n",
    "        model1=KNeighborsClassifier(n_neighbors=k)\n",
    "        model1.fit(X,train_labels)\n",
    "        print(\"Accuracy for Nearest-Neighbors Classifier with k =\",k)\n",
    "        print(\"F1-score =\",metrics.f1_score(dev_labels,model1.predict(Y),average='macro'))\n",
    "    \n",
    "    alpha_list=list(range(10))\n",
    "    #alpha_list=[1] #optimal alpha among tested\n",
    "    for alpha in alpha_list:\n",
    "        model2=MultinomialNB(alpha=alpha)\n",
    "        model2.fit(X,train_labels)\n",
    "        print(\"Accuracy for Multinomial Naive Bayes Classifier with alpha =\",alpha)\n",
    "        print(\"F1-score =\",metrics.f1_score(dev_labels,model2.predict(Y),average='macro'))\n",
    "    \n",
    "    C_list=[0.001, 0.01, 0.1, 0.25, 0.5, 1, 10, 50, 100, 1000]\n",
    "    #C_list=[0.5] #Optimal C value among tested\n",
    "    for C in C_list:\n",
    "        model3=LogisticRegression(C=C)\n",
    "        model3.fit(X,train_labels)\n",
    "        print(\"Accuracy for Logistic Regression Classifier with C =\",C)\n",
    "        print(\"F1-score =\",metrics.f1_score(dev_labels,model3.predict(Y),average='macro'))\n",
    "        sum_of_sq_weights=list(map(sum,list(map(lambda x:x**2,model3.coef_))))\n",
    "        print(\"Sum of squared weights from Logistic Regression model:\",sum_of_sq_weights)\n",
    "    \n",
    "\n",
    "### STUDENT END ###\n",
    "P3()"
   ]
  },
  {
   "cell_type": "markdown",
   "metadata": {},
   "source": [
    "## ANSWER:\n",
    "a) Nearest-Neighbors doesn't work well first and foremost due to the poor choice of distance metric. Something like cosine similarity would likely work much better to assess degree of overlap of wordcount vectors. As it stands, the normal Euclidean (L2) distance metric would compute the distance from pt (4,0) to pt (0,0) to be the same as the distance to (8,0) whereas we would think the latter is likely to be very similar (and indeed has cosine distance of 0). Furthermore, the dimensionality of the space is extremely large, and Nearest-Neighbors is more likely to suffer from the curse of dimensionality as distance metrics lose some meaning in higher dimensions.\n",
    "\n",
    "b) Small sample size is likely the main reason for Naive Bayes outperformance over Logistic Regression. Presumably Logistic Regression would overtake Naive Bayes in terms of performance given enough training data. That being said, the large dimensionality and sparsity of the data makes it less likely to violate the naive bayes assumption, so it will may take many more examples for Logistic Regression or require some further dimensionality reduction to perform better.\n",
    "\n",
    "c) As we increase C, the sum of squared weights also increases. This is because C is the inverse of the regularization parameter and the sum of squared weights should be inversely correlated with the regularization parameter as well, since larger regularization parameters will increase emphasis on the regularization term in the minimization problem and decrease emphasis on the loss function term for the weights and vice versa.\n",
    "\n",
    "___"
   ]
  },
  {
   "cell_type": "markdown",
   "metadata": {},
   "source": [
    "(4) Train a logistic regression model. Find the 5 features with the largest weights for each label -- 20 features in total. Create a table with 20 rows and 4 columns that shows the weight for each of these features for each of the labels. Create the table again with bigram features. Any surprising features in this table?\n",
    "\n",
    "[5 pts]"
   ]
  },
  {
   "cell_type": "code",
   "execution_count": 50,
   "metadata": {},
   "outputs": [
    {
     "name": "stdout",
     "output_type": "stream",
     "text": [
      "Top Features for class alt.atheism:\n",
      "['atheists' 'bobby' 'religion' 'atheism' 'deletion']\n",
      "Top Features for class comp.graphics:\n",
      "['graphics' 'image' 'file' '3d' 'computer']\n",
      "Top Features for class sci.space:\n",
      "['space' 'orbit' 'nasa' 'launch' 'spacecraft']\n",
      "Top Features for class talk.religion.misc:\n",
      "['christians' 'christian' 'blood' 'fbi' 'order']\n",
      "            alt.atheism  comp.graphics  sci.space  talk.religion.misc\n",
      "atheists       0.833574      -0.093436  -0.267658           -0.637400\n",
      "bobby          0.823648      -0.191341  -0.286399           -0.387138\n",
      "religion       0.798364      -0.508342  -0.658857           -0.050562\n",
      "atheism        0.794566      -0.350526  -0.367260           -0.376892\n",
      "deletion       0.723593      -0.249328  -0.272455           -0.270082\n",
      "graphics      -0.641037       1.625916  -1.103025           -0.626208\n",
      "image         -0.469265       1.116880  -0.672332           -0.380163\n",
      "file          -0.275338       1.059707  -0.682678           -0.506155\n",
      "3d            -0.303515       0.941856  -0.571018           -0.317504\n",
      "computer       0.071132       0.844591  -0.569586           -0.396243\n",
      "space         -1.061283      -1.116138   1.864161           -0.971842\n",
      "orbit         -0.350310      -0.559539   1.012670           -0.498965\n",
      "nasa          -0.465321      -0.410505   0.851652           -0.401472\n",
      "launch        -0.377288      -0.396821   0.783922           -0.280579\n",
      "spacecraft    -0.297358      -0.322031   0.737354           -0.291703\n",
      "christians    -0.607307      -0.315359  -0.404288            0.929376\n",
      "christian     -0.483001      -0.339053  -0.247560            0.925475\n",
      "blood         -0.428828      -0.096943  -0.230664            0.846706\n",
      "fbi           -0.243971      -0.217516  -0.374972            0.754536\n",
      "order         -0.649496      -0.065556  -0.124160            0.742680\n",
      "Using bigram features:\n",
      "Top Features for class alt.atheism:\n",
      "['claim that' 'cheers kent' 'was just' 'you are' 'are you']\n",
      "Top Features for class comp.graphics:\n",
      "['looking for' 'in advance' 'comp graphics' 'out there' 'is there']\n",
      "Top Features for class sci.space:\n",
      "['the space' 'the moon' 'sci space' 'and such' 'it was']\n",
      "Top Features for class talk.religion.misc:\n",
      "['the fbi' 'cheers kent' 'ignorance is' 'but he' 'of jesus']\n",
      "               alt.atheism  comp.graphics  sci.space  talk.religion.misc\n",
      "claim that        0.605549      -0.199054  -0.274346           -0.140365\n",
      "cheers kent       0.555719      -0.697894  -0.663765            0.534808\n",
      "was just          0.482050      -0.131428  -0.128883           -0.227469\n",
      "you are           0.472741      -0.279879  -0.481308            0.028374\n",
      "are you           0.446954      -0.248269  -0.097136           -0.305625\n",
      "looking for      -0.630341       1.108379  -0.500040           -0.571868\n",
      "in advance       -0.459351       0.832561  -0.438501           -0.418453\n",
      "comp graphics    -0.292166       0.801218  -0.370885           -0.285186\n",
      "out there        -0.274802       0.758671  -0.479058           -0.277089\n",
      "is there         -0.340882       0.754973  -0.468249           -0.257079\n",
      "the space        -0.268187      -0.530107   0.871112           -0.273845\n",
      "the moon         -0.350563      -0.492702   0.831082           -0.213800\n",
      "sci space        -0.258008      -0.329159   0.621088           -0.221245\n",
      "and such         -0.204269      -0.337502   0.590523           -0.218202\n",
      "it was           -0.203030      -0.309677   0.525360           -0.313553\n",
      "the fbi          -0.131974      -0.211355  -0.295287            0.551990\n",
      "cheers kent       0.555719      -0.697894  -0.663765            0.534808\n",
      "ignorance is     -0.158011      -0.171070  -0.139580            0.504304\n",
      "but he           -0.190019      -0.216870  -0.137403            0.491875\n",
      "of jesus         -0.091910      -0.173762  -0.212418            0.423754\n"
     ]
    }
   ],
   "source": [
    "def P4():\n",
    "### STUDENT START ###\n",
    "    import pandas as pd\n",
    "    \n",
    "    vectorizer=CountVectorizer()\n",
    "    X=vectorizer.fit_transform(train_data)\n",
    "    Y=vectorizer.transform(dev_data)\n",
    "    vocab=np.array(vectorizer.get_feature_names())\n",
    "    #print(np.shape(vocab))\n",
    "    \n",
    "    model=LogisticRegression(C=0.5)\n",
    "    model.fit(X,train_labels)\n",
    "    all_indices=np.zeros(20,dtype=int)\n",
    "    #print(all_indices)\n",
    "    for i in range(len(newsgroups_train.target_names)):\n",
    "        coef_list=model.coef_[i,]\n",
    "        coef_arr=np.array(coef_list)\n",
    "        #print(np.shape(coef_arr))\n",
    "        #print(coef_arr)\n",
    "        indices=coef_arr.argsort()[-5:][::-1]\n",
    "        all_indices[i*5:(i+1)*5]=indices\n",
    "        #print(indices)\n",
    "        #print(coef_arr[indices])\n",
    "        print(\"Top Features for class %s:\"%newsgroups_train.target_names[i])\n",
    "        print(vocab[indices])\n",
    "    #print(all_indices)\n",
    "    index=vocab[all_indices]\n",
    "    d={}\n",
    "    for i in range(len(newsgroups_train.target_names)):\n",
    "        d[newsgroups_train.target_names[i]]=model.coef_[i,all_indices]\n",
    "    table=pd.DataFrame(data=d,index=index)\n",
    "    print(table)\n",
    "    \n",
    "        \n",
    "        \n",
    "    print(\"Using bigram features:\")\n",
    "    vectorizer=CountVectorizer(ngram_range=(2,2))\n",
    "    X=vectorizer.fit_transform(train_data)\n",
    "    Y=vectorizer.transform(dev_data)\n",
    "    vocab=np.array(vectorizer.get_feature_names())\n",
    "    #print(np.shape(vocab))\n",
    "    \n",
    "    model=LogisticRegression(C=0.5)\n",
    "    model.fit(X,train_labels)\n",
    "    all_indices=np.zeros(20,dtype=int)\n",
    "    for i in range(len(newsgroups_train.target_names)):\n",
    "        coef_list=model.coef_[i,]\n",
    "        coef_arr=np.array(coef_list)\n",
    "        #print(np.shape(coef_arr))\n",
    "        #print(coef_arr)\n",
    "        indices=coef_arr.argsort()[-5:][::-1]\n",
    "        all_indices[i*5:(i+1)*5]=indices\n",
    "        #print(indices)\n",
    "        #print(coef_arr[indices])\n",
    "        print(\"Top Features for class %s:\"%newsgroups_train.target_names[i])\n",
    "        print(vocab[indices])\n",
    "    index=vocab[all_indices]\n",
    "    d={}\n",
    "    for i in range(len(newsgroups_train.target_names)):\n",
    "        d[newsgroups_train.target_names[i]]=model.coef_[i,all_indices]\n",
    "    table=pd.DataFrame(data=d,index=index)\n",
    "    print(table)    \n",
    "        \n",
    "\n",
    "### STUDENT END ###\n",
    "P4()"
   ]
  },
  {
   "cell_type": "markdown",
   "metadata": {},
   "source": [
    "## ANSWER:\n",
    "\n",
    "Answer, laid out above, first lists the top 5 features for each class, then produces the table of the corresponding weights for each class of all 20 features. This is then repeated for bigram word features (of which there are actually only 19 since `'cheers kent'` appears in both `alt.atheism` and `talk.religion.misc` suggesting perhaps these include some of the same news shows).\n",
    "\n",
    "Some interesting observaations include as noted above that cheers kent has large and roughly equal weights for `alt.atheism` and `talk.religion.misc`, indicating some potential crossover in the underlying data examples of those two that may be worth exploring. The `talk.religion.misc` class is fairly concerned about the fbi, showing up as both a unigram and bigram feature there and nowhere else. `comp.graphics` and `sci.space` seem to adhere most closely to the core subject matter which is notably unique as none of the prominent features for these classes have positive coefficients for any other class (with the lone exception of the coefficent for `'computer'` in `alt.atheism`, and the top features of the other classes are all negative for them. `alt.atheism` and `talk.religion.misc` have a few but interestingly `'religion'`,`'atheism'`,`'christain'`, and `'christians'` were not among them."
   ]
  },
  {
   "cell_type": "markdown",
   "metadata": {},
   "source": [
    "(5) Try to improve the logistic regression classifier by passing a custom preprocessor to CountVectorizer. The preprocessing function runs on the raw text, before it is split into words by the tokenizer. Your preprocessor should try to normalize the input in various ways to improve generalization. For example, try lowercasing everything, replacing sequences of numbers with a single token, removing various other non-letter characters, and shortening long words. If you're not already familiar with regular expressions for manipulating strings, see https://docs.python.org/2/library/re.html, and re.sub() in particular. With your new preprocessor, how much did you reduce the size of the dictionary?\n",
    "\n",
    "For reference, I was able to improve dev F1 by 2 points.\n",
    "\n",
    "[4 pts]"
   ]
  },
  {
   "cell_type": "code",
   "execution_count": 105,
   "metadata": {},
   "outputs": [
    {
     "name": "stdout",
     "output_type": "stream",
     "text": [
      "['00' '000' '0000' ..., 'zware' 'zwarte' 'zyxel']\n",
      "26879\n",
      "F1-score = 0.692015191511\n"
     ]
    },
    {
     "ename": "MemoryError",
     "evalue": "",
     "output_type": "error",
     "traceback": [
      "\u001b[1;31m---------------------------------------------------------------------------\u001b[0m",
      "\u001b[1;31mMemoryError\u001b[0m                               Traceback (most recent call last)",
      "\u001b[1;32m<ipython-input-105-893caa4c670a>\u001b[0m in \u001b[0;36m<module>\u001b[1;34m()\u001b[0m\n\u001b[0;32m     37\u001b[0m \u001b[1;33m\u001b[0m\u001b[0m\n\u001b[0;32m     38\u001b[0m \u001b[1;31m### STUDENT END ###\u001b[0m\u001b[1;33m\u001b[0m\u001b[1;33m\u001b[0m\u001b[0m\n\u001b[1;32m---> 39\u001b[1;33m \u001b[0mP5\u001b[0m\u001b[1;33m(\u001b[0m\u001b[1;33m)\u001b[0m\u001b[1;33m\u001b[0m\u001b[0m\n\u001b[0m",
      "\u001b[1;32m<ipython-input-105-893caa4c670a>\u001b[0m in \u001b[0;36mP5\u001b[1;34m()\u001b[0m\n\u001b[0;32m     25\u001b[0m     \u001b[0mvectorizer\u001b[0m\u001b[1;33m=\u001b[0m\u001b[0mCountVectorizer\u001b[0m\u001b[1;33m(\u001b[0m\u001b[1;33m)\u001b[0m\u001b[1;33m\u001b[0m\u001b[0m\n\u001b[0;32m     26\u001b[0m     \u001b[0mfunc\u001b[0m\u001b[1;33m=\u001b[0m\u001b[0mnp\u001b[0m\u001b[1;33m.\u001b[0m\u001b[0mvectorize\u001b[0m\u001b[1;33m(\u001b[0m\u001b[0mbetter_preprocessor\u001b[0m\u001b[1;33m)\u001b[0m\u001b[1;33m\u001b[0m\u001b[0m\n\u001b[1;32m---> 27\u001b[1;33m     \u001b[0mX\u001b[0m\u001b[1;33m=\u001b[0m\u001b[0mvectorizer\u001b[0m\u001b[1;33m.\u001b[0m\u001b[0mfit_transform\u001b[0m\u001b[1;33m(\u001b[0m\u001b[0mfunc\u001b[0m\u001b[1;33m(\u001b[0m\u001b[0mtrain_data\u001b[0m\u001b[1;33m)\u001b[0m\u001b[1;33m)\u001b[0m\u001b[1;33m\u001b[0m\u001b[0m\n\u001b[0m\u001b[0;32m     28\u001b[0m     \u001b[0mY\u001b[0m\u001b[1;33m=\u001b[0m\u001b[0mvectorizer\u001b[0m\u001b[1;33m.\u001b[0m\u001b[0mtransform\u001b[0m\u001b[1;33m(\u001b[0m\u001b[0mfunc\u001b[0m\u001b[1;33m(\u001b[0m\u001b[0mdev_data\u001b[0m\u001b[1;33m)\u001b[0m\u001b[1;33m)\u001b[0m\u001b[1;33m\u001b[0m\u001b[0m\n\u001b[0;32m     29\u001b[0m     \u001b[0mvocab\u001b[0m\u001b[1;33m=\u001b[0m\u001b[0mnp\u001b[0m\u001b[1;33m.\u001b[0m\u001b[0marray\u001b[0m\u001b[1;33m(\u001b[0m\u001b[0mvectorizer\u001b[0m\u001b[1;33m.\u001b[0m\u001b[0mget_feature_names\u001b[0m\u001b[1;33m(\u001b[0m\u001b[1;33m)\u001b[0m\u001b[1;33m)\u001b[0m\u001b[1;33m\u001b[0m\u001b[0m\n",
      "\u001b[1;32m~\\AppData\\Roaming\\Python\\Python36\\site-packages\\numpy\\lib\\function_base.py\u001b[0m in \u001b[0;36m__call__\u001b[1;34m(self, *args, **kwargs)\u001b[0m\n\u001b[0;32m   2737\u001b[0m             \u001b[0mvargs\u001b[0m\u001b[1;33m.\u001b[0m\u001b[0mextend\u001b[0m\u001b[1;33m(\u001b[0m\u001b[1;33m[\u001b[0m\u001b[0mkwargs\u001b[0m\u001b[1;33m[\u001b[0m\u001b[0m_n\u001b[0m\u001b[1;33m]\u001b[0m \u001b[1;32mfor\u001b[0m \u001b[0m_n\u001b[0m \u001b[1;32min\u001b[0m \u001b[0mnames\u001b[0m\u001b[1;33m]\u001b[0m\u001b[1;33m)\u001b[0m\u001b[1;33m\u001b[0m\u001b[0m\n\u001b[0;32m   2738\u001b[0m \u001b[1;33m\u001b[0m\u001b[0m\n\u001b[1;32m-> 2739\u001b[1;33m         \u001b[1;32mreturn\u001b[0m \u001b[0mself\u001b[0m\u001b[1;33m.\u001b[0m\u001b[0m_vectorize_call\u001b[0m\u001b[1;33m(\u001b[0m\u001b[0mfunc\u001b[0m\u001b[1;33m=\u001b[0m\u001b[0mfunc\u001b[0m\u001b[1;33m,\u001b[0m \u001b[0margs\u001b[0m\u001b[1;33m=\u001b[0m\u001b[0mvargs\u001b[0m\u001b[1;33m)\u001b[0m\u001b[1;33m\u001b[0m\u001b[0m\n\u001b[0m\u001b[0;32m   2740\u001b[0m \u001b[1;33m\u001b[0m\u001b[0m\n\u001b[0;32m   2741\u001b[0m     \u001b[1;32mdef\u001b[0m \u001b[0m_get_ufunc_and_otypes\u001b[0m\u001b[1;33m(\u001b[0m\u001b[0mself\u001b[0m\u001b[1;33m,\u001b[0m \u001b[0mfunc\u001b[0m\u001b[1;33m,\u001b[0m \u001b[0margs\u001b[0m\u001b[1;33m)\u001b[0m\u001b[1;33m:\u001b[0m\u001b[1;33m\u001b[0m\u001b[0m\n",
      "\u001b[1;32m~\\AppData\\Roaming\\Python\\Python36\\site-packages\\numpy\\lib\\function_base.py\u001b[0m in \u001b[0;36m_vectorize_call\u001b[1;34m(self, func, args)\u001b[0m\n\u001b[0;32m   2807\u001b[0m             \u001b[0mres\u001b[0m \u001b[1;33m=\u001b[0m \u001b[0mfunc\u001b[0m\u001b[1;33m(\u001b[0m\u001b[1;33m)\u001b[0m\u001b[1;33m\u001b[0m\u001b[0m\n\u001b[0;32m   2808\u001b[0m         \u001b[1;32melse\u001b[0m\u001b[1;33m:\u001b[0m\u001b[1;33m\u001b[0m\u001b[0m\n\u001b[1;32m-> 2809\u001b[1;33m             \u001b[0mufunc\u001b[0m\u001b[1;33m,\u001b[0m \u001b[0motypes\u001b[0m \u001b[1;33m=\u001b[0m \u001b[0mself\u001b[0m\u001b[1;33m.\u001b[0m\u001b[0m_get_ufunc_and_otypes\u001b[0m\u001b[1;33m(\u001b[0m\u001b[0mfunc\u001b[0m\u001b[1;33m=\u001b[0m\u001b[0mfunc\u001b[0m\u001b[1;33m,\u001b[0m \u001b[0margs\u001b[0m\u001b[1;33m=\u001b[0m\u001b[0margs\u001b[0m\u001b[1;33m)\u001b[0m\u001b[1;33m\u001b[0m\u001b[0m\n\u001b[0m\u001b[0;32m   2810\u001b[0m \u001b[1;33m\u001b[0m\u001b[0m\n\u001b[0;32m   2811\u001b[0m             \u001b[1;31m# Convert args to object arrays first\u001b[0m\u001b[1;33m\u001b[0m\u001b[1;33m\u001b[0m\u001b[0m\n",
      "\u001b[1;32m~\\AppData\\Roaming\\Python\\Python36\\site-packages\\numpy\\lib\\function_base.py\u001b[0m in \u001b[0;36m_get_ufunc_and_otypes\u001b[1;34m(self, func, args)\u001b[0m\n\u001b[0;32m   2761\u001b[0m             \u001b[1;31m# Assumes that ufunc first evaluates the 0th elements in the input\u001b[0m\u001b[1;33m\u001b[0m\u001b[1;33m\u001b[0m\u001b[0m\n\u001b[0;32m   2762\u001b[0m             \u001b[1;31m# arrays (the input values are not checked to ensure this)\u001b[0m\u001b[1;33m\u001b[0m\u001b[1;33m\u001b[0m\u001b[0m\n\u001b[1;32m-> 2763\u001b[1;33m             \u001b[0margs\u001b[0m \u001b[1;33m=\u001b[0m \u001b[1;33m[\u001b[0m\u001b[0masarray\u001b[0m\u001b[1;33m(\u001b[0m\u001b[0marg\u001b[0m\u001b[1;33m)\u001b[0m \u001b[1;32mfor\u001b[0m \u001b[0marg\u001b[0m \u001b[1;32min\u001b[0m \u001b[0margs\u001b[0m\u001b[1;33m]\u001b[0m\u001b[1;33m\u001b[0m\u001b[0m\n\u001b[0m\u001b[0;32m   2764\u001b[0m             \u001b[1;32mif\u001b[0m \u001b[0mbuiltins\u001b[0m\u001b[1;33m.\u001b[0m\u001b[0many\u001b[0m\u001b[1;33m(\u001b[0m\u001b[0marg\u001b[0m\u001b[1;33m.\u001b[0m\u001b[0msize\u001b[0m \u001b[1;33m==\u001b[0m \u001b[1;36m0\u001b[0m \u001b[1;32mfor\u001b[0m \u001b[0marg\u001b[0m \u001b[1;32min\u001b[0m \u001b[0margs\u001b[0m\u001b[1;33m)\u001b[0m\u001b[1;33m:\u001b[0m\u001b[1;33m\u001b[0m\u001b[0m\n\u001b[0;32m   2765\u001b[0m                 raise ValueError('cannot call `vectorize` on size 0 inputs '\n",
      "\u001b[1;32m~\\AppData\\Roaming\\Python\\Python36\\site-packages\\numpy\\lib\\function_base.py\u001b[0m in \u001b[0;36m<listcomp>\u001b[1;34m(.0)\u001b[0m\n\u001b[0;32m   2761\u001b[0m             \u001b[1;31m# Assumes that ufunc first evaluates the 0th elements in the input\u001b[0m\u001b[1;33m\u001b[0m\u001b[1;33m\u001b[0m\u001b[0m\n\u001b[0;32m   2762\u001b[0m             \u001b[1;31m# arrays (the input values are not checked to ensure this)\u001b[0m\u001b[1;33m\u001b[0m\u001b[1;33m\u001b[0m\u001b[0m\n\u001b[1;32m-> 2763\u001b[1;33m             \u001b[0margs\u001b[0m \u001b[1;33m=\u001b[0m \u001b[1;33m[\u001b[0m\u001b[0masarray\u001b[0m\u001b[1;33m(\u001b[0m\u001b[0marg\u001b[0m\u001b[1;33m)\u001b[0m \u001b[1;32mfor\u001b[0m \u001b[0marg\u001b[0m \u001b[1;32min\u001b[0m \u001b[0margs\u001b[0m\u001b[1;33m]\u001b[0m\u001b[1;33m\u001b[0m\u001b[0m\n\u001b[0m\u001b[0;32m   2764\u001b[0m             \u001b[1;32mif\u001b[0m \u001b[0mbuiltins\u001b[0m\u001b[1;33m.\u001b[0m\u001b[0many\u001b[0m\u001b[1;33m(\u001b[0m\u001b[0marg\u001b[0m\u001b[1;33m.\u001b[0m\u001b[0msize\u001b[0m \u001b[1;33m==\u001b[0m \u001b[1;36m0\u001b[0m \u001b[1;32mfor\u001b[0m \u001b[0marg\u001b[0m \u001b[1;32min\u001b[0m \u001b[0margs\u001b[0m\u001b[1;33m)\u001b[0m\u001b[1;33m:\u001b[0m\u001b[1;33m\u001b[0m\u001b[0m\n\u001b[0;32m   2765\u001b[0m                 raise ValueError('cannot call `vectorize` on size 0 inputs '\n",
      "\u001b[1;32m~\\AppData\\Roaming\\Python\\Python36\\site-packages\\numpy\\core\\numeric.py\u001b[0m in \u001b[0;36masarray\u001b[1;34m(a, dtype, order)\u001b[0m\n\u001b[0;32m    529\u001b[0m \u001b[1;33m\u001b[0m\u001b[0m\n\u001b[0;32m    530\u001b[0m     \"\"\"\n\u001b[1;32m--> 531\u001b[1;33m     \u001b[1;32mreturn\u001b[0m \u001b[0marray\u001b[0m\u001b[1;33m(\u001b[0m\u001b[0ma\u001b[0m\u001b[1;33m,\u001b[0m \u001b[0mdtype\u001b[0m\u001b[1;33m,\u001b[0m \u001b[0mcopy\u001b[0m\u001b[1;33m=\u001b[0m\u001b[1;32mFalse\u001b[0m\u001b[1;33m,\u001b[0m \u001b[0morder\u001b[0m\u001b[1;33m=\u001b[0m\u001b[0morder\u001b[0m\u001b[1;33m)\u001b[0m\u001b[1;33m\u001b[0m\u001b[0m\n\u001b[0m\u001b[0;32m    532\u001b[0m \u001b[1;33m\u001b[0m\u001b[0m\n\u001b[0;32m    533\u001b[0m \u001b[1;33m\u001b[0m\u001b[0m\n",
      "\u001b[1;31mMemoryError\u001b[0m: "
     ]
    }
   ],
   "source": [
    "def empty_preprocessor(s):\n",
    "    return s\n",
    "\n",
    "def better_preprocessor(s):\n",
    "### STUDENT START ###\n",
    "    s.lower()\n",
    "    s=re.sub(\"[^a-zA-Z]\",' ',s)\n",
    "    return s\n",
    "### STUDENT END ###\n",
    "\n",
    "def P5():\n",
    "### STUDENT START ###\n",
    "    vectorizer=CountVectorizer()\n",
    "    X=vectorizer.fit_transform(train_data)\n",
    "    Y=vectorizer.transform(dev_data)\n",
    "    vocab=np.array(vectorizer.get_feature_names())\n",
    "    print(vocab)\n",
    "    print(len(vocab))\n",
    "    #print(vectorizer.vocabulary_)\n",
    "    \n",
    "    model=LogisticRegression(C=0.5)\n",
    "    model.fit(X,train_labels)\n",
    "    print(\"F1-score =\",metrics.f1_score(dev_labels,model.predict(Y),average='macro'))\n",
    "    \n",
    "    vectorizer=CountVectorizer()\n",
    "    func=np.vectorize(better_preprocessor)\n",
    "    X=vectorizer.fit_transform(func(train_data))\n",
    "    Y=vectorizer.transform(func(dev_data))\n",
    "    vocab=np.array(vectorizer.get_feature_names())\n",
    "    print(vocab)\n",
    "    print(len(vocab))\n",
    "    #print(vectorizer.vocabulary_)\n",
    "    \n",
    "    model=LogisticRegression(C=0.5)\n",
    "    model.fit(X,train_labels)\n",
    "    print(\"F1-score =\",metrics.f1_score(dev_labels,model.predict(Y),average='macro'))\n",
    "    \n",
    "### STUDENT END ###\n",
    "P5()"
   ]
  },
  {
   "cell_type": "markdown",
   "metadata": {},
   "source": [
    "## Answer\n",
    "\n",
    "5) Barely able to improve accuracy and only reduced the vocab size by about 2000 words."
   ]
  },
  {
   "cell_type": "markdown",
   "metadata": {},
   "source": [
    "(6) The idea of regularization is to avoid learning very large weights (which are likely to fit the training data, but not generalize well) by adding a penalty to the total size of the learned weights. That is, logistic regression seeks the set of weights that minimizes errors in the training data AND has a small size. The default regularization, L2, computes this size as the sum of the squared weights (see P3, above). L1 regularization computes this size as the sum of the absolute values of the weights. The result is that whereas L2 regularization makes all the weights relatively small, L1 regularization drives lots of the weights to 0, effectively removing unimportant features.\n",
    "\n",
    "Train a logistic regression model using a \"l1\" penalty. Output the number of learned weights that are not equal to zero. How does this compare to the number of non-zero weights you get with \"l2\"? Now, reduce the size of the vocabulary by keeping only those features that have at least one non-zero weight and retrain a model using \"l2\".\n",
    "\n",
    "Make a plot showing accuracy of the re-trained model vs. the vocabulary size you get when pruning unused features by adjusting the C parameter.\n",
    "\n",
    "Note: The gradient descent code that trains the logistic regression model sometimes has trouble converging with extreme settings of the C parameter. Relax the convergence criteria by setting tol=.01 (the default is .0001).\n",
    "\n",
    "[4 pts]"
   ]
  },
  {
   "cell_type": "code",
   "execution_count": 68,
   "metadata": {
    "scrolled": true
   },
   "outputs": [
    {
     "name": "stdout",
     "output_type": "stream",
     "text": [
      "['00' '000' '0000' ..., 'zware' 'zwarte' 'zyxel']\n",
      "26879\n",
      "Logistic Regression with L2-penalty (Ridge) with C = 0.01\n",
      "F1-score = 0.646086634131\n",
      "26879\n",
      "Logistic Regression with L1-penalty (Lasso) with C = 0.01\n",
      "F1-score = 0.403173413074\n",
      "16\n",
      "Logistic Regression with L2-penalty (Ridge) with C = 0.01\n",
      "F1-score = 0.433598930854\n",
      "Logistic Regression with L2-penalty (Ridge) with C = 0.025\n",
      "F1-score = 0.645253278033\n",
      "26879\n",
      "Logistic Regression with L1-penalty (Lasso) with C = 0.025\n",
      "F1-score = 0.47622851403\n",
      "53\n",
      "Logistic Regression with L2-penalty (Ridge) with C = 0.025\n",
      "F1-score = 0.555035912653\n",
      "Logistic Regression with L2-penalty (Ridge) with C = 0.05\n",
      "F1-score = 0.664641619723\n",
      "26879\n",
      "Logistic Regression with L1-penalty (Lasso) with C = 0.05\n",
      "F1-score = 0.556589837836\n",
      "121\n",
      "Logistic Regression with L2-penalty (Ridge) with C = 0.05\n",
      "F1-score = 0.60140384452\n",
      "Logistic Regression with L2-penalty (Ridge) with C = 0.1\n",
      "F1-score = 0.679619665343\n",
      "26879\n",
      "Logistic Regression with L1-penalty (Lasso) with C = 0.1\n",
      "F1-score = 0.631008442211\n",
      "210\n",
      "Logistic Regression with L2-penalty (Ridge) with C = 0.1\n",
      "F1-score = 0.654362297235\n",
      "Logistic Regression with L2-penalty (Ridge) with C = 0.25\n",
      "F1-score = 0.687071271292\n",
      "26879\n",
      "Logistic Regression with L1-penalty (Lasso) with C = 0.25\n",
      "F1-score = 0.677048586837\n",
      "447\n",
      "Logistic Regression with L2-penalty (Ridge) with C = 0.25\n",
      "F1-score = 0.672506479392\n",
      "Logistic Regression with L2-penalty (Ridge) with C = 0.5\n",
      "F1-score = 0.679199130026\n",
      "26879\n",
      "Logistic Regression with L1-penalty (Lasso) with C = 0.5\n",
      "F1-score = 0.677648969138\n",
      "754\n",
      "Logistic Regression with L2-penalty (Ridge) with C = 0.5\n",
      "F1-score = 0.647317695598\n",
      "Logistic Regression with L2-penalty (Ridge) with C = 1\n",
      "F1-score = 0.682938316954\n",
      "26879\n",
      "Logistic Regression with L1-penalty (Lasso) with C = 1\n",
      "F1-score = 0.680831940095\n",
      "1346\n",
      "Logistic Regression with L2-penalty (Ridge) with C = 1\n",
      "F1-score = 0.653635603355\n",
      "Logistic Regression with L2-penalty (Ridge) with C = 2.5\n",
      "F1-score = 0.674622454954\n",
      "26879\n",
      "Logistic Regression with L1-penalty (Lasso) with C = 2.5\n",
      "F1-score = 0.671919166473\n",
      "2083\n",
      "Logistic Regression with L2-penalty (Ridge) with C = 2.5\n",
      "F1-score = 0.669915879614\n",
      "Logistic Regression with L2-penalty (Ridge) with C = 5\n",
      "F1-score = 0.686208279734\n",
      "26879\n",
      "Logistic Regression with L1-penalty (Lasso) with C = 5\n",
      "F1-score = 0.658567109558\n",
      "2220\n",
      "Logistic Regression with L2-penalty (Ridge) with C = 5\n",
      "F1-score = 0.672489540767\n",
      "Logistic Regression with L2-penalty (Ridge) with C = 10\n",
      "F1-score = 0.673440048254\n",
      "26879\n",
      "Logistic Regression with L1-penalty (Lasso) with C = 10\n",
      "F1-score = 0.677740918681\n",
      "3181\n",
      "Logistic Regression with L2-penalty (Ridge) with C = 10\n",
      "F1-score = 0.67078006161\n"
     ]
    },
    {
     "data": {
      "image/png": "[encoded data removed]",
      "text/plain": [
       "<matplotlib.figure.Figure at 0x16f7af50>"
      ]
     },
     "metadata": {},
     "output_type": "display_data"
    }
   ],
   "source": [
    "def P6():\n",
    "    # Keep this random seed here to make comparison easier.\n",
    "    np.random.seed(0)\n",
    "\n",
    "    ### STUDENT START ###\n",
    "    vectorizer=CountVectorizer()\n",
    "    X=vectorizer.fit_transform(train_data)\n",
    "    Y=vectorizer.transform(dev_data)\n",
    "    \n",
    "    vocab=np.array(vectorizer.get_feature_names())\n",
    "    print(vocab)\n",
    "    print(len(vocab))\n",
    "    \n",
    "    vocab_counts=[]\n",
    "    d={'full_L2':[],'L1':[],'sparse_L2':[]}\n",
    "    C_list=[0.01, .025, .05, 0.1, 0.25, 0.5, 1, 2.5, 5, 10]\n",
    "    for C in C_list:\n",
    "        model=LogisticRegression(penalty='l2',C=C,tol=.01)\n",
    "        model.fit(X,train_labels)\n",
    "        print(\"Logistic Regression with L2-penalty (Ridge) with C =\",C)\n",
    "        print(\"F1-score =\",metrics.f1_score(dev_labels,model.predict(Y),average='macro'))\n",
    "        non_zeros=np.sum(model.coef_!=0,axis=0)!=0\n",
    "        print(np.sum(non_zeros))\n",
    "        d['full_L2'].append(metrics.f1_score(dev_labels,model.predict(Y),average='macro'))\n",
    "        \n",
    "        model=LogisticRegression(penalty='l1',C=C,tol=.01)\n",
    "        model.fit(X,train_labels)\n",
    "        print(\"Logistic Regression with L1-penalty (Lasso) with C =\",C)\n",
    "        print(\"F1-score =\",metrics.f1_score(dev_labels,model.predict(Y),average='macro'))\n",
    "        #print(np.shape(model.coef_))\n",
    "        #print(model.coef_)\n",
    "        non_zeros=np.sum(model.coef_!=0,axis=0)!=0\n",
    "        #print(np.shape(non_zeros))\n",
    "        #print(non_zeros)\n",
    "        print(np.sum(non_zeros))\n",
    "        sparse_vocab=vocab[non_zeros]\n",
    "        #print(sparse_vocab)\n",
    "        #print(len(sparse_vocab))\n",
    "        vocab_counts.append(np.sum(non_zeros))\n",
    "        d['L1'].append(metrics.f1_score(dev_labels,model.predict(Y),average='macro'))\n",
    "                \n",
    "        model=LogisticRegression(penalty='l2',C=C,tol=.01)\n",
    "        model.fit(X[:,non_zeros],train_labels)\n",
    "        print(\"Logistic Regression with L2-penalty (Ridge) with C =\",C)\n",
    "        print(\"F1-score =\",metrics.f1_score(dev_labels,model.predict(Y[:,non_zeros]),average='macro'))\n",
    "        d['sparse_L2'].append(metrics.f1_score(dev_labels,model.predict(Y[:,non_zeros]),average='macro'))\n",
    "    \n",
    "    plt.rcParams['figure.figsize']=[15,5]\n",
    "    plt.subplot(1,3,1)\n",
    "    plt.plot(C_list,d['L1'],color='red')\n",
    "    plt.plot(C_list,d['sparse_L2'],color='blue')\n",
    "    plt.xlabel('C-Values')\n",
    "    plt.ylabel('F1-Score')\n",
    "    plt.subplot(1,3,2)\n",
    "    plt.plot(vocab_counts,d['L1'],color='red')\n",
    "    plt.plot(vocab_counts,d['sparse_L2'],color='blue')\n",
    "    plt.xlabel('Vocabulary Size')\n",
    "    plt.ylabel('F1-Score')\n",
    "    plt.subplot(1,3,3)\n",
    "    plt.plot(C_list,vocab_counts,color='red')\n",
    "    plt.xlabel('C-Values')\n",
    "    plt.ylabel('Vocabulary Size')\n",
    "\n",
    "    ### STUDENT END ###\n",
    "P6()"
   ]
  },
  {
   "cell_type": "markdown",
   "metadata": {},
   "source": [
    "## Answer:\n",
    "\n",
    "6) Note: Scroll to the bottom of the output above to see the plots. In the first two plots, red corresponds to accuracy under the L1 penalty and blue corresponds to the L2 penalty trained only on the nonzero components in the L1 penalty trial.\n",
    "\n",
    "The L2 penalty, which I believe is the same as Ridge Regression regularization, does not reduce the vocabulary size at all since it can not reduce any coefficients to exactly zero, rather only to small values. On the other hand, the L1 penalty, which I believe is the same as LASSO Regression regularization, reduces the size of the vocabulary significantly, and fairly steadily with increasing C values."
   ]
  },
  {
   "cell_type": "markdown",
   "metadata": {},
   "source": [
    "(7) Use the TfidfVectorizer -- how is this different from the CountVectorizer? Train a logistic regression model with C=100.\n",
    "\n",
    "Make predictions on the dev data and show the top 3 documents where the ratio R is largest, where R is:\n",
    "\n",
    "maximum predicted probability / predicted probability of the correct label\n",
    "\n",
    "What kinds of mistakes is the model making? Suggest a way to address one particular issue that you see.\n",
    "\n",
    "[4 pts]"
   ]
  },
  {
   "cell_type": "code",
   "execution_count": 87,
   "metadata": {},
   "outputs": [
    {
     "name": "stdout",
     "output_type": "stream",
     "text": [
      "F1-score = 0.747391310165\n",
      "Correct Label: talk.religion.misc\n",
      "Predicted Label: comp.graphics\n",
      "R-value: 929.358008865\n",
      "I am pleased to announce that a *revised version* of _The Easy-to-Read Book\n",
      "of Mormon_ (former title: _Mormon's Book_) by Lynn Matthews Anderson is now\n",
      "available through anonymous ftp (see information below). In addition to the\n",
      "change in title, the revised ETR BOM has been shortened by several pages\n",
      "(eliminating many extraneous \"that's\" and \"of's\"), and many (minor) errors\n",
      "have been corrected. This release includes a simplified Joseph Smith Story,\n",
      "testimonies of the three and eight witnesses, and a \"Words-to-Know\"\n",
      "glossary.\n",
      "\n",
      "As with the previous announcement, readers are reminded that this is a\n",
      "not-for-profit endeavor. This is a copyrighted work, but people are welcome\n",
      "to make *verbatim* copies for personal use. People can recuperate the\n",
      "actual costs of printing (paper, copy center charges), but may not charge\n",
      "anything for their time in making copies, or in any way realize a profit\n",
      "from the use of this book. See the permissions notice in the book itself\n",
      "for the precise terms.\n",
      "\n",
      "Negotiations are currently underway with a Mormon publisher vis-a-vis the\n",
      "printing and distribution of bound books. (Sorry, I'm out of the wire-bound\n",
      "\"first editions.\") I will make another announcement about the availability\n",
      "of printed copies once everything has been worked out.\n",
      "\n",
      "FTP information: connect via anonymous ftp to carnot.itc.cmu.edu, then \"cd\n",
      "pub\" (you won't see anything at all until you do).\n",
      "\n",
      "\"The Easy-to-Read Book of Mormon\" is currently available in postscript and\n",
      "RTF (rich text format). (ASCII, LaTeX, and other versions can be made\n",
      "available; contact dba@andrew.cmu.edu for details.) You should be able to\n",
      "print the postscript file on any postscript printer (such as an Apple\n",
      "Laserwriter); let dba know if you have any difficulties. (The postscript in\n",
      "the last release had problems on some printers; this time it should work\n",
      "better.) RTF is a standard document interchange format that can be read in\n",
      "by a number of word processors, including Microsoft Word for both the\n",
      "Macintosh and Windows. If you don't have a postscript printer, you may be\n",
      "able to use the RTF file to print out a copy of the book.\n",
      "\n",
      "-r--r--r--  1 dba                   1984742 Apr 27 13:12 etrbom.ps\n",
      "-r--r--r--  1 dba                   1209071 Apr 27 13:13 etrbom.rtf\n",
      "\n",
      "For more information about how this project came about, please refer to my\n",
      "article in the current issue of _Sunstone_, entitled \"Delighting in\n",
      "Plainness: Issues Surrounding a Simple Modern English Book of Mormon.\"\n",
      "\n",
      "Send all inquiries and comments to:\n",
      "\n",
      "    Lynn Matthews Anderson\n",
      "    5806 Hampton Street\n",
      "    Pittsburgh, PA 15206\n",
      "\n",
      "Correct Label: talk.religion.misc\n",
      "Predicted Label: comp.graphics\n",
      "R-value: 325.004074741\n",
      "Can anyone provide me a ftp site where I can obtain a online version\n",
      "of the Book of Mormon. Please email the internet address if possible.\n",
      "\n",
      "Correct Label: alt.atheism\n",
      "Predicted Label: talk.religion.misc\n",
      "R-value: 287.179111375\n",
      "\n",
      "The 24 children were, of course, killed by a lone gunman in a second story\n",
      "window, who fired eight bullets in the space of two seconds...\n",
      "\n",
      "\n"
     ]
    }
   ],
   "source": [
    "def P7():\n",
    "    ### STUDENT START ###\n",
    "    vectorizer=TfidfVectorizer()\n",
    "    X=vectorizer.fit_transform(train_data)\n",
    "    Y=vectorizer.transform(dev_data)\n",
    "    \n",
    "    model=LogisticRegression(C=100)\n",
    "    model.fit(X,train_labels)\n",
    "    print(\"F1-score =\",metrics.f1_score(dev_labels,model.predict(Y),average='macro'))\n",
    "    \n",
    "    \n",
    "    predictions=model.predict(Y)\n",
    "    probas=model.predict_proba(Y)\n",
    "    R_values=np.array([probas[i,predictions[i]]/probas[i,dev_labels[i]] for i in range(len(dev_labels))])\n",
    "    indices=R_values.argsort()[-3:][::-1]\n",
    "    for index in indices:\n",
    "        print(\"Correct Label:\",newsgroups_train.target_names[dev_labels[index]])\n",
    "        print(\"Predicted Label:\",newsgroups_train.target_names[predictions[index]])\n",
    "        print(\"R-value:\",R_values[index])\n",
    "        print(dev_data[index])\n",
    "        print()\n",
    "\n",
    "\n",
    "    ### STUDENT END ###\n",
    "P7()"
   ]
  },
  {
   "cell_type": "markdown",
   "metadata": {},
   "source": [
    "## ANSWER:\n",
    "The TfidfVectorizer (where tf stands for \"term-frequency\" and idf stands for \"inverse document frequency\") is comprised of a normalized combination of both the term-frequency count in the document returned by the count-vectorizer and the log of the inverse of the frequency with which it appears in the corpus, which are multiplied together and normalized to have euclidean norm of 1. This is similar to adjusting the document frequency parameters of the count-vectorizer however instead of ignoring words which appear in many documents, we simply lower their weight and increase the weight of those in few documents.\n",
    "\n",
    "The classifier struggles when terms involving linux systems or internet/email are used to describe tools used for other purposes (in the cases above to access a version of The Book of Mormon). This problem is probably difficult to rectify but conceivably religious terms like Mormon should be negatively weighted in the comp.graphics topic so somehow increasing this negative weighting would help alleviate the problem. In addition, the ability to differentiate between atheism and religion is very difficult for the classifier. Here perhaps it is a question of combination of words and conversation context so adding n-gram features for higher values of n may be useful."
   ]
  },
  {
   "cell_type": "markdown",
   "metadata": {},
   "source": [
    "(8) EXTRA CREDIT\n",
    "\n",
    "Try implementing one of your ideas based on your error analysis. Use logistic regression as your underlying model.\n",
    "\n",
    "- [1 pt] for a reasonable attempt\n",
    "- [2 pts] for improved performance"
   ]
  },
  {
   "cell_type": "code",
   "execution_count": null,
   "metadata": {},
   "outputs": [],
   "source": [
    "#Extra Credit\n",
    "vectorizer=TfidfVectorizer()\n",
    "X=vectorizer.fit_transform(train_data)\n",
    "Y=vectorizer.transform(dev_data)\n",
    "\n",
    "C_list=[0.01, .025, .05, 0.1, 0.25, 0.5, 1, 2.5, 5, 10]\n",
    "for C in C_list:\n",
    "    model=LogisticRegression(C=C)\n",
    "    model.fit(X,train_labels)\n",
    "    print(\"F1-score =\",metrics.f1_score(dev_labels,model.predict(Y),average='macro'))"
   ]
  }
 ],
 "metadata": {
  "kernelspec": {
   "display_name": "Python 3",
   "language": "python",
   "name": "python3"
  },
  "language_info": {
   "codemirror_mode": {
    "name": "ipython",
    "version": 3
   },
   "file_extension": ".py",
   "mimetype": "text/x-python",
   "name": "python",
   "nbconvert_exporter": "python",
   "pygments_lexer": "ipython3",
   "version": "3.6.3"
  }
 },
 "nbformat": 4,
 "nbformat_minor": 1
}
